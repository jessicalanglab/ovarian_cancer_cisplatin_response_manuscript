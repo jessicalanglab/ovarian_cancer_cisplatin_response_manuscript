{
 "cells": [
  {
   "cell_type": "markdown",
   "metadata": {},
   "source": [
    "We have datasets aligned using GRCh38 and GRCH19. We need to include only the genes present in both reference genomes."
   ]
  },
  {
   "cell_type": "code",
   "execution_count": 1,
   "metadata": {},
   "outputs": [],
   "source": [
    "from bioservices import *\n",
    "import pandas as pd\n",
    "from pyensembl import EnsemblRelease\n",
    "\n",
    "# can use `pyensembl list` from command line to see releases I have downloaded and their reference genome"
   ]
  },
  {
   "cell_type": "code",
   "execution_count": 6,
   "metadata": {},
   "outputs": [],
   "source": [
    "shared_genes_path = \"../../data/reference/shared_genes.tsv\""
   ]
  },
  {
   "cell_type": "code",
   "execution_count": 2,
   "metadata": {},
   "outputs": [],
   "source": [
    "# Load Ensembl release for GRCh38 and GRCh37(hg19) assemblies\n",
    "ensembl_GRCh38 = EnsemblRelease(96)\n",
    "ensembl_GRCh37 = EnsemblRelease(75)\n",
    "\n",
    "# Get gene IDs and names for both assemblies\n",
    "genes_GRCh38 = ensembl_GRCh38.genes()\n",
    "genes_GRCh37 = ensembl_GRCh37.genes()"
   ]
  },
  {
   "cell_type": "code",
   "execution_count": 3,
   "metadata": {},
   "outputs": [
    {
     "name": "stdout",
     "output_type": "stream",
     "text": [
      "Number of genes unique to GRCh38: 23051\n",
      "Number of genes unique to GRCh37: 22336\n",
      "Number of genes in both assemblies: 34302\n",
      "Number of genes in either assembly: 79689\n"
     ]
    },
    {
     "data": {
      "text/html": [
       "<div>\n",
       "<style scoped>\n",
       "    .dataframe tbody tr th:only-of-type {\n",
       "        vertical-align: middle;\n",
       "    }\n",
       "\n",
       "    .dataframe tbody tr th {\n",
       "        vertical-align: top;\n",
       "    }\n",
       "\n",
       "    .dataframe thead th {\n",
       "        text-align: right;\n",
       "    }\n",
       "</style>\n",
       "<table border=\"1\" class=\"dataframe\">\n",
       "  <thead>\n",
       "    <tr style=\"text-align: right;\">\n",
       "      <th></th>\n",
       "      <th>Gene</th>\n",
       "      <th>in_GRCh38</th>\n",
       "      <th>in_GRCh37</th>\n",
       "      <th>in_both</th>\n",
       "    </tr>\n",
       "  </thead>\n",
       "  <tbody>\n",
       "    <tr>\n",
       "      <th>0</th>\n",
       "      <td>NUP210</td>\n",
       "      <td>True</td>\n",
       "      <td>True</td>\n",
       "      <td>True</td>\n",
       "    </tr>\n",
       "    <tr>\n",
       "      <th>1</th>\n",
       "      <td>AC067940.1</td>\n",
       "      <td>True</td>\n",
       "      <td>True</td>\n",
       "      <td>True</td>\n",
       "    </tr>\n",
       "    <tr>\n",
       "      <th>2</th>\n",
       "      <td>CFAP97D2</td>\n",
       "      <td>True</td>\n",
       "      <td>False</td>\n",
       "      <td>False</td>\n",
       "    </tr>\n",
       "    <tr>\n",
       "      <th>3</th>\n",
       "      <td>AIM2</td>\n",
       "      <td>True</td>\n",
       "      <td>True</td>\n",
       "      <td>True</td>\n",
       "    </tr>\n",
       "    <tr>\n",
       "      <th>4</th>\n",
       "      <td>AL135999.2</td>\n",
       "      <td>True</td>\n",
       "      <td>False</td>\n",
       "      <td>False</td>\n",
       "    </tr>\n",
       "    <tr>\n",
       "      <th>...</th>\n",
       "      <td>...</td>\n",
       "      <td>...</td>\n",
       "      <td>...</td>\n",
       "      <td>...</td>\n",
       "    </tr>\n",
       "    <tr>\n",
       "      <th>79684</th>\n",
       "      <td>AC009473.1</td>\n",
       "      <td>False</td>\n",
       "      <td>True</td>\n",
       "      <td>False</td>\n",
       "    </tr>\n",
       "    <tr>\n",
       "      <th>79685</th>\n",
       "      <td>RP11-114H20.1</td>\n",
       "      <td>False</td>\n",
       "      <td>True</td>\n",
       "      <td>False</td>\n",
       "    </tr>\n",
       "    <tr>\n",
       "      <th>79686</th>\n",
       "      <td>OXR1</td>\n",
       "      <td>True</td>\n",
       "      <td>True</td>\n",
       "      <td>True</td>\n",
       "    </tr>\n",
       "    <tr>\n",
       "      <th>79687</th>\n",
       "      <td>RP11-573D15.9</td>\n",
       "      <td>False</td>\n",
       "      <td>True</td>\n",
       "      <td>False</td>\n",
       "    </tr>\n",
       "    <tr>\n",
       "      <th>79688</th>\n",
       "      <td>GIMAP7</td>\n",
       "      <td>True</td>\n",
       "      <td>True</td>\n",
       "      <td>True</td>\n",
       "    </tr>\n",
       "  </tbody>\n",
       "</table>\n",
       "<p>79689 rows × 4 columns</p>\n",
       "</div>"
      ],
      "text/plain": [
       "                Gene  in_GRCh38  in_GRCh37  in_both\n",
       "0             NUP210       True       True     True\n",
       "1         AC067940.1       True       True     True\n",
       "2           CFAP97D2       True      False    False\n",
       "3               AIM2       True       True     True\n",
       "4         AL135999.2       True      False    False\n",
       "...              ...        ...        ...      ...\n",
       "79684     AC009473.1      False       True    False\n",
       "79685  RP11-114H20.1      False       True    False\n",
       "79686           OXR1       True       True     True\n",
       "79687  RP11-573D15.9      False       True    False\n",
       "79688         GIMAP7       True       True     True\n",
       "\n",
       "[79689 rows x 4 columns]"
      ]
     },
     "metadata": {},
     "output_type": "display_data"
    }
   ],
   "source": [
    "# Extract gene names from each assembly\n",
    "gene_names_GRCh38 = set(gene.name for gene in genes_GRCh38)\n",
    "gene_names_GRCh37 = set(gene.name for gene in genes_GRCh37)\n",
    "all_gene_names = gene_names_GRCh38.union(gene_names_GRCh37)\n",
    "\n",
    "# Create a data frame of merged gene names\n",
    "df_genes = pd.DataFrame(list(all_gene_names), columns=[\"Gene\"])\n",
    "df_genes[\"in_GRCh38\"] = df_genes[\"Gene\"].isin(gene_names_GRCh38)\n",
    "df_genes[\"in_GRCh37\"] = df_genes[\"Gene\"].isin(gene_names_GRCh37)\n",
    "df_genes[\"in_both\"] = df_genes[\"in_GRCh38\"] & df_genes[\"in_GRCh37\"]\n",
    "\n",
    "num_unique_GRCh38 = sum(df_genes[\"in_GRCh38\"] & ~df_genes[\"in_GRCh37\"])\n",
    "num_unique_GRCh37 = sum(df_genes[\"in_GRCh37\"] & ~df_genes[\"in_GRCh38\"])\n",
    "num_both = sum(df_genes[\"in_both\"])\n",
    "num_total = len(df_genes)\n",
    "print(\n",
    "    f\"Number of genes unique to GRCh38: {num_unique_GRCh38}\"\n",
    ")\n",
    "print(\n",
    "    f\"Number of genes unique to GRCh37: {num_unique_GRCh37}\"\n",
    ")\n",
    "print(f\"Number of genes in both assemblies: {num_both}\")\n",
    "print(f\"Number of genes in either assembly: {num_total}\")\n",
    "assert num_total == num_unique_GRCh38 + num_unique_GRCh37 + num_both\n",
    "display(df_genes)"
   ]
  },
  {
   "cell_type": "code",
   "execution_count": 8,
   "metadata": {},
   "outputs": [],
   "source": [
    "shared_genes = df_genes[df_genes[\"in_both\"]][\"Gene\"]\n",
    "shared_genes.to_csv(shared_genes_path, sep=\"\\t\", index=False, header=False)"
   ]
  }
 ],
 "metadata": {
  "kernelspec": {
   "display_name": "Python 3",
   "language": "python",
   "name": "python3"
  },
  "language_info": {
   "codemirror_mode": {
    "name": "ipython",
    "version": 3
   },
   "file_extension": ".py",
   "mimetype": "text/x-python",
   "name": "python",
   "nbconvert_exporter": "python",
   "pygments_lexer": "ipython3",
   "version": "3.11.9"
  }
 },
 "nbformat": 4,
 "nbformat_minor": 2
}
