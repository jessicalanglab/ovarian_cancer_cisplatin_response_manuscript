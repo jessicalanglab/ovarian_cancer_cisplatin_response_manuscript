{
 "cells": [
  {
   "cell_type": "code",
   "execution_count": 1,
   "metadata": {},
   "outputs": [],
   "source": [
    "import pandas as pd\n",
    "import json   \n",
    "\n",
    "# Import utilities\n",
    "import os\n",
    "import sys\n",
    "os.chdir(\"/Volumes/kueck/PublicDataAnalysis/CASCAM_style_subtype_classification/src/preprocessing\")\n",
    "# os.getcwd() not working as expected, so need to set wd manually (update as needed).\n",
    "parent_dir = os.path.abspath(os.path.join(os.getcwd(), '../'))\n",
    "sys.path.append(parent_dir)\n",
    "\n",
    "from utilities import get_ensembl_mappings_grch38"
   ]
  },
  {
   "cell_type": "code",
   "execution_count": 2,
   "metadata": {},
   "outputs": [],
   "source": [
    "ensembl_to_gene_symbol_df = get_ensembl_mappings_grch38()"
   ]
  },
  {
   "cell_type": "code",
   "execution_count": 4,
   "metadata": {},
   "outputs": [],
   "source": [
    "tcga_data_folder = \"../../data/public_data_sets/TCGA_all_cancer_types\"\n",
    "gene_counts_folder = f\"{tcga_data_folder}/gene_counts\""
   ]
  },
  {
   "cell_type": "markdown",
   "metadata": {},
   "source": [
    "### Load log2 counts data"
   ]
  },
  {
   "cell_type": "code",
   "execution_count": null,
   "metadata": {},
   "outputs": [],
   "source": [
    "combined_log2_counts = pd.DataFrame()\n",
    "combined_metadata  = pd.DataFrame(columns = [\"sample_id\", \"cancer_type\"])\n",
    "\n",
    "for file in os.listdir(gene_counts_folder):\n",
    "    filename = os.fsdecode(file)\n",
    "\n",
    "    if not filename.endswith(\".gz\"):\n",
    "        continue\n",
    "\n",
    "    cancer_type = filename.split(\".\")[0].split(\"-\")[1]\n",
    "\n",
    "    log2_counts_cancer_type = pd.read_csv(f\"{gene_counts_folder}/{filename}\", compression='gzip', sep=\"\\t\", index_col=0)\n",
    "\n",
    "    # Rename with submitter ID instead of submitter_slide_id (up to 3rd \"-\"), merging samples with same submitter ID\n",
    "    log2_counts_cancer_type.columns = ['-'.join(col.split(\"-\", 3)[:3]) for col in log2_counts_cancer_type.columns]\n",
    "    log2_counts_cancer_type = log2_counts_cancer_type.T\n",
    "    log2_counts_cancer_type = log2_counts_cancer_type.groupby(level=0).mean() # Will ignore NaN values by default\n",
    "    log2_counts_cancer_type = log2_counts_cancer_type.T\n",
    "    assert not log2_counts_cancer_type.columns.duplicated().any()\n",
    "\n",
    "    # Combine with other TCGA cancer types\n",
    "    if combined_log2_counts.empty:\n",
    "        combined_log2_counts = log2_counts_cancer_type\n",
    "    else:\n",
    "        combined_log2_counts = combined_log2_counts.join(log2_counts_cancer_type)\n",
    "\n",
    "    # Add metadata\n",
    "    new_metadata = pd.DataFrame({\"sample_id\": log2_counts_cancer_type.columns, \"cancer_type\": cancer_type})\n",
    "    if combined_metadata.empty:\n",
    "        combined_metadata = new_metadata\n",
    "    else:\n",
    "        combined_metadata = pd.concat([combined_metadata, new_metadata]).reset_index(drop=True)\n",
    "\n",
    "# Save metadata\n",
    "parsed_metadata_file = f\"{tcga_data_folder}/TCGA_all_cancer_types_metadata_parsed.tsv\"\n",
    "combined_metadata.to_csv(parsed_metadata_file, sep=\"\\t\", index=False)\n",
    "\n",
    "# Save combined TCGA data with Encode ID as index\n",
    "combined_log2_counts_encode_file = f\"{tcga_data_folder}/TCGA_all_cancer_types_log2_counts_encode_id.tsv\"\n",
    "combined_log2_counts.to_csv(combined_log2_counts_encode_file, sep=\"\\t\")\n",
    "\n",
    "# Add gene symbol column\n",
    "combined_log2_counts.insert(0,\n",
    "                \"ensembl_id\",\n",
    "                [ensembl_id_with_version.split(\".\")[0] for ensembl_id_with_version in combined_log2_counts.index])\n",
    "def get_gene_symbol(ensembl_id):\n",
    "    try:\n",
    "        return ensembl_to_gene_symbol_df.loc[ensembl_to_gene_symbol_df[\"ensembl_gene_id\"] == ensembl_id, \"external_gene_name\"].values[0]\n",
    "    except IndexError:\n",
    "        return None\n",
    "combined_log2_counts.insert(0,\n",
    "                \"gene_symbol\",\n",
    "                combined_log2_counts[\"ensembl_id\"].apply(get_gene_symbol))\n",
    "\n",
    "# Save combined TCGA data with gene symbol as index\n",
    "combined_log2_counts_file = f\"{tcga_data_folder}/TCGA_all_cancer_types_log2_counts.tsv\"\n",
    "combined_log2_counts.to_csv(combined_log2_counts_file, sep=\"\\t\")"
   ]
  }
 ],
 "metadata": {
  "kernelspec": {
   "display_name": "Python 3",
   "language": "python",
   "name": "python3"
  },
  "language_info": {
   "codemirror_mode": {
    "name": "ipython",
    "version": 3
   },
   "file_extension": ".py",
   "mimetype": "text/x-python",
   "name": "python",
   "nbconvert_exporter": "python",
   "pygments_lexer": "ipython3",
   "version": "3.12.3"
  }
 },
 "nbformat": 4,
 "nbformat_minor": 2
}
