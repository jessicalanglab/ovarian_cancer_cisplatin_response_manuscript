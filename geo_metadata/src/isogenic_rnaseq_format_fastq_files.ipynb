{
 "cells": [
  {
   "cell_type": "markdown",
   "metadata": {},
   "source": [
    "# Format raw and processed files for GEO uploads\n",
    "\n",
    "Note: This is written to be run on a Mac with the research drive mounted. Adjust file paths as necessary if this is not the case."
   ]
  },
  {
   "cell_type": "markdown",
   "metadata": {},
   "source": [
    "## Setup"
   ]
  },
  {
   "cell_type": "code",
   "execution_count": 1,
   "metadata": {},
   "outputs": [],
   "source": [
    "from collections import namedtuple\n",
    "import pandas as pd\n",
    "import os\n",
    "import hashlib\n",
    "\n",
    "# Setting up this named tuple to store any further information we need about the runs\n",
    "# (such as directory paths, etc.)\n",
    "RunInfo = namedtuple(\"RunInfo\", [\"name\", \"fastq_folder\"])\n",
    "\n",
    "runs = [\n",
    "    RunInfo(\n",
    "        \"Run230316\",\n",
    "        \"/Volumes/kueck/FASTQ/CellLines/RNA-Seq/230316_VL00320_43_AACJYMYM5/Analysis/1/Data/fastq\",\n",
    "    ),\n",
    "    RunInfo(\n",
    "        \"Run230322\",\n",
    "        \"/Volumes/kueck/FASTQ/CellLines/RNA-Seq/230322_VL00320_45_AACJYNCM5/Analysis/1/Data/fastq\",\n",
    "    ),\n",
    "    RunInfo(\n",
    "        \"Run230323\",\n",
    "        \"/Volumes/kueck/FASTQ/CellLines/RNA-Seq/230323_run/fastq\",\n",
    "    ),\n",
    "]\n",
    "\n",
    "experiment_tag = \"230324-3way-merge\"\n",
    "\n",
    "# Path to processed data files\n",
    "processed_data_folder = f\"/Volumes/kueck/Pipeline/CellLines/RNAseq/{experiment_tag}/star_salmon\"\n",
    "processed_data_file_names = [\n",
    "    \"salmon.merged.gene_tpm.tsv\",\n",
    "    \"salmon.merged.gene_counts.tsv\",\n",
    "]\n",
    "\n",
    "# Path to fastq folder where all the fastq files will be copied to\n",
    "# Note that this copies straight into the research drive so that the fastq files are not on local device\n",
    "final_fastq_folder = f\"/Volumes/kueck/ovarian_cancer_cisplatin_response_manuscript/geo_metadata/data/{experiment_tag}/fastq\"\n",
    "\n",
    "# Paths to save the sample/processed data info\n",
    "sample_info_path = f\"../data/{experiment_tag}/raw_sample_info.csv\"\n",
    "processed_data_info_path = f\"../data/{experiment_tag}/processed_data_info.csv\"\n",
    "formatted_sample_files_path = f\"../data/{experiment_tag}/raw_sample_files.csv\"\n",
    "\n",
    "# Print command and run command\n",
    "def run_command(cmd):\n",
    "    print(f\"cmd: {cmd}\")\n",
    "    os.system(cmd)\n",
    "\n",
    "# DataFrame to hold info about each sample\n",
    "sample_info = pd.DataFrame(\n",
    "    columns=[\"sample_id\", \"original_fastq_path\", \"symlink_fastq_path\", \"final_file_name\", \"md5_checksum\"]\n",
    ")\n",
    "sample_info.set_index(\"sample_id\", inplace=True)"
   ]
  },
  {
   "cell_type": "code",
   "execution_count": 2,
   "metadata": {},
   "outputs": [],
   "source": [
    "def compute_md5_checksum(file_path):\n",
    "    md5_hash = hashlib.md5()\n",
    "    with open(file_path, \"rb\") as file:\n",
    "        # Read the file in chunks to avoid memory issues with large files\n",
    "        for chunk in iter(lambda: file.read(4096), b\"\"):\n",
    "            md5_hash.update(chunk)\n",
    "    return md5_hash.hexdigest()"
   ]
  },
  {
   "cell_type": "markdown",
   "metadata": {},
   "source": [
    "## Collect information about each sample"
   ]
  },
  {
   "cell_type": "code",
   "execution_count": 3,
   "metadata": {},
   "outputs": [
    {
     "data": {
      "text/html": [
       "<div>\n",
       "<style scoped>\n",
       "    .dataframe tbody tr th:only-of-type {\n",
       "        vertical-align: middle;\n",
       "    }\n",
       "\n",
       "    .dataframe tbody tr th {\n",
       "        vertical-align: top;\n",
       "    }\n",
       "\n",
       "    .dataframe thead th {\n",
       "        text-align: right;\n",
       "    }\n",
       "</style>\n",
       "<table border=\"1\" class=\"dataframe\">\n",
       "  <thead>\n",
       "    <tr style=\"text-align: right;\">\n",
       "      <th></th>\n",
       "      <th>original_fastq_path</th>\n",
       "      <th>symlink_fastq_path</th>\n",
       "      <th>final_file_name</th>\n",
       "      <th>md5_checksum</th>\n",
       "    </tr>\n",
       "    <tr>\n",
       "      <th>sample_id</th>\n",
       "      <th></th>\n",
       "      <th></th>\n",
       "      <th></th>\n",
       "      <th></th>\n",
       "    </tr>\n",
       "  </thead>\n",
       "  <tbody>\n",
       "    <tr>\n",
       "      <th>1_S1_R1_001_Run230316</th>\n",
       "      <td>/Volumes/kueck/FASTQ/CellLines/RNA-Seq/230316_...</td>\n",
       "      <td></td>\n",
       "      <td></td>\n",
       "      <td></td>\n",
       "    </tr>\n",
       "    <tr>\n",
       "      <th>1_S1_R2_001_Run230316</th>\n",
       "      <td>/Volumes/kueck/FASTQ/CellLines/RNA-Seq/230316_...</td>\n",
       "      <td></td>\n",
       "      <td></td>\n",
       "      <td></td>\n",
       "    </tr>\n",
       "    <tr>\n",
       "      <th>2_S2_R1_001_Run230316</th>\n",
       "      <td>/Volumes/kueck/FASTQ/CellLines/RNA-Seq/230316_...</td>\n",
       "      <td></td>\n",
       "      <td></td>\n",
       "      <td></td>\n",
       "    </tr>\n",
       "    <tr>\n",
       "      <th>2_S2_R2_001_Run230316</th>\n",
       "      <td>/Volumes/kueck/FASTQ/CellLines/RNA-Seq/230316_...</td>\n",
       "      <td></td>\n",
       "      <td></td>\n",
       "      <td></td>\n",
       "    </tr>\n",
       "    <tr>\n",
       "      <th>3_S3_R1_001_Run230316</th>\n",
       "      <td>/Volumes/kueck/FASTQ/CellLines/RNA-Seq/230316_...</td>\n",
       "      <td></td>\n",
       "      <td></td>\n",
       "      <td></td>\n",
       "    </tr>\n",
       "    <tr>\n",
       "      <th>...</th>\n",
       "      <td>...</td>\n",
       "      <td>...</td>\n",
       "      <td>...</td>\n",
       "      <td>...</td>\n",
       "    </tr>\n",
       "    <tr>\n",
       "      <th>31_S31_R2_001_Run230323</th>\n",
       "      <td>/Volumes/kueck/FASTQ/CellLines/RNA-Seq/230323_...</td>\n",
       "      <td></td>\n",
       "      <td></td>\n",
       "      <td></td>\n",
       "    </tr>\n",
       "    <tr>\n",
       "      <th>32_S32_R1_001_Run230323</th>\n",
       "      <td>/Volumes/kueck/FASTQ/CellLines/RNA-Seq/230323_...</td>\n",
       "      <td></td>\n",
       "      <td></td>\n",
       "      <td></td>\n",
       "    </tr>\n",
       "    <tr>\n",
       "      <th>32_S32_R2_001_Run230323</th>\n",
       "      <td>/Volumes/kueck/FASTQ/CellLines/RNA-Seq/230323_...</td>\n",
       "      <td></td>\n",
       "      <td></td>\n",
       "      <td></td>\n",
       "    </tr>\n",
       "    <tr>\n",
       "      <th>33_S33_R1_001_Run230323</th>\n",
       "      <td>/Volumes/kueck/FASTQ/CellLines/RNA-Seq/230323_...</td>\n",
       "      <td></td>\n",
       "      <td></td>\n",
       "      <td></td>\n",
       "    </tr>\n",
       "    <tr>\n",
       "      <th>33_S33_R2_001_Run230323</th>\n",
       "      <td>/Volumes/kueck/FASTQ/CellLines/RNA-Seq/230323_...</td>\n",
       "      <td></td>\n",
       "      <td></td>\n",
       "      <td></td>\n",
       "    </tr>\n",
       "  </tbody>\n",
       "</table>\n",
       "<p>198 rows × 4 columns</p>\n",
       "</div>"
      ],
      "text/plain": [
       "                                                       original_fastq_path  \\\n",
       "sample_id                                                                    \n",
       "1_S1_R1_001_Run230316    /Volumes/kueck/FASTQ/CellLines/RNA-Seq/230316_...   \n",
       "1_S1_R2_001_Run230316    /Volumes/kueck/FASTQ/CellLines/RNA-Seq/230316_...   \n",
       "2_S2_R1_001_Run230316    /Volumes/kueck/FASTQ/CellLines/RNA-Seq/230316_...   \n",
       "2_S2_R2_001_Run230316    /Volumes/kueck/FASTQ/CellLines/RNA-Seq/230316_...   \n",
       "3_S3_R1_001_Run230316    /Volumes/kueck/FASTQ/CellLines/RNA-Seq/230316_...   \n",
       "...                                                                    ...   \n",
       "31_S31_R2_001_Run230323  /Volumes/kueck/FASTQ/CellLines/RNA-Seq/230323_...   \n",
       "32_S32_R1_001_Run230323  /Volumes/kueck/FASTQ/CellLines/RNA-Seq/230323_...   \n",
       "32_S32_R2_001_Run230323  /Volumes/kueck/FASTQ/CellLines/RNA-Seq/230323_...   \n",
       "33_S33_R1_001_Run230323  /Volumes/kueck/FASTQ/CellLines/RNA-Seq/230323_...   \n",
       "33_S33_R2_001_Run230323  /Volumes/kueck/FASTQ/CellLines/RNA-Seq/230323_...   \n",
       "\n",
       "                        symlink_fastq_path final_file_name md5_checksum  \n",
       "sample_id                                                                \n",
       "1_S1_R1_001_Run230316                                                    \n",
       "1_S1_R2_001_Run230316                                                    \n",
       "2_S2_R1_001_Run230316                                                    \n",
       "2_S2_R2_001_Run230316                                                    \n",
       "3_S3_R1_001_Run230316                                                    \n",
       "...                                    ...             ...          ...  \n",
       "31_S31_R2_001_Run230323                                                  \n",
       "32_S32_R1_001_Run230323                                                  \n",
       "32_S32_R2_001_Run230323                                                  \n",
       "33_S33_R1_001_Run230323                                                  \n",
       "33_S33_R2_001_Run230323                                                  \n",
       "\n",
       "[198 rows x 4 columns]"
      ]
     },
     "metadata": {},
     "output_type": "display_data"
    }
   ],
   "source": [
    "for run in runs:\n",
    "    for sample_num in range(1, 34):\n",
    "        for read_num in range(1, 3):\n",
    "            # Infer the original fastq path\n",
    "            original_fastq_path = f\"{run.fastq_folder}/{sample_num}_S{sample_num}_R{read_num}_001.fastq.gz\"\n",
    "\n",
    "            # Create a unique sample_id including the run tag\n",
    "            sample_id = f\"{sample_num}_S{sample_num}_R{read_num}_001_{run.name}\"\n",
    "\n",
    "            # Add sample info to data frame\n",
    "            sample_info.loc[sample_id] = [original_fastq_path, \"\", \"\", \"\"]\n",
    "\n",
    "display(sample_info)"
   ]
  },
  {
   "cell_type": "markdown",
   "metadata": {},
   "source": [
    "## Compute MD5 checksums"
   ]
  },
  {
   "cell_type": "code",
   "execution_count": 4,
   "metadata": {},
   "outputs": [
    {
     "data": {
      "text/plain": [
       "'Computing MD5 for 1_S1_R1_001_Run230316 (1/198)'"
      ]
     },
     "metadata": {},
     "output_type": "display_data"
    },
    {
     "data": {
      "text/plain": [
       "'Computing MD5 for 1_S1_R2_001_Run230316 (2/198)'"
      ]
     },
     "metadata": {},
     "output_type": "display_data"
    },
    {
     "data": {
      "text/plain": [
       "'Computing MD5 for 2_S2_R1_001_Run230316 (3/198)'"
      ]
     },
     "metadata": {},
     "output_type": "display_data"
    },
    {
     "data": {
      "text/plain": [
       "'Computing MD5 for 2_S2_R2_001_Run230316 (4/198)'"
      ]
     },
     "metadata": {},
     "output_type": "display_data"
    },
    {
     "data": {
      "text/plain": [
       "'Computing MD5 for 3_S3_R1_001_Run230316 (5/198)'"
      ]
     },
     "metadata": {},
     "output_type": "display_data"
    },
    {
     "data": {
      "text/plain": [
       "'Computing MD5 for 3_S3_R2_001_Run230316 (6/198)'"
      ]
     },
     "metadata": {},
     "output_type": "display_data"
    },
    {
     "data": {
      "text/plain": [
       "'Computing MD5 for 4_S4_R1_001_Run230316 (7/198)'"
      ]
     },
     "metadata": {},
     "output_type": "display_data"
    },
    {
     "data": {
      "text/plain": [
       "'Computing MD5 for 4_S4_R2_001_Run230316 (8/198)'"
      ]
     },
     "metadata": {},
     "output_type": "display_data"
    },
    {
     "data": {
      "text/plain": [
       "'Computing MD5 for 5_S5_R1_001_Run230316 (9/198)'"
      ]
     },
     "metadata": {},
     "output_type": "display_data"
    },
    {
     "data": {
      "text/plain": [
       "'Computing MD5 for 5_S5_R2_001_Run230316 (10/198)'"
      ]
     },
     "metadata": {},
     "output_type": "display_data"
    },
    {
     "data": {
      "text/plain": [
       "'Computing MD5 for 6_S6_R1_001_Run230316 (11/198)'"
      ]
     },
     "metadata": {},
     "output_type": "display_data"
    },
    {
     "data": {
      "text/plain": [
       "'Computing MD5 for 6_S6_R2_001_Run230316 (12/198)'"
      ]
     },
     "metadata": {},
     "output_type": "display_data"
    },
    {
     "data": {
      "text/plain": [
       "'Computing MD5 for 7_S7_R1_001_Run230316 (13/198)'"
      ]
     },
     "metadata": {},
     "output_type": "display_data"
    },
    {
     "data": {
      "text/plain": [
       "'Computing MD5 for 7_S7_R2_001_Run230316 (14/198)'"
      ]
     },
     "metadata": {},
     "output_type": "display_data"
    },
    {
     "data": {
      "text/plain": [
       "'Computing MD5 for 8_S8_R1_001_Run230316 (15/198)'"
      ]
     },
     "metadata": {},
     "output_type": "display_data"
    },
    {
     "data": {
      "text/plain": [
       "'Computing MD5 for 8_S8_R2_001_Run230316 (16/198)'"
      ]
     },
     "metadata": {},
     "output_type": "display_data"
    },
    {
     "data": {
      "text/plain": [
       "'Computing MD5 for 9_S9_R1_001_Run230316 (17/198)'"
      ]
     },
     "metadata": {},
     "output_type": "display_data"
    },
    {
     "data": {
      "text/plain": [
       "'Computing MD5 for 9_S9_R2_001_Run230316 (18/198)'"
      ]
     },
     "metadata": {},
     "output_type": "display_data"
    },
    {
     "data": {
      "text/plain": [
       "'Computing MD5 for 10_S10_R1_001_Run230316 (19/198)'"
      ]
     },
     "metadata": {},
     "output_type": "display_data"
    },
    {
     "data": {
      "text/plain": [
       "'Computing MD5 for 10_S10_R2_001_Run230316 (20/198)'"
      ]
     },
     "metadata": {},
     "output_type": "display_data"
    },
    {
     "data": {
      "text/plain": [
       "'Computing MD5 for 11_S11_R1_001_Run230316 (21/198)'"
      ]
     },
     "metadata": {},
     "output_type": "display_data"
    },
    {
     "data": {
      "text/plain": [
       "'Computing MD5 for 11_S11_R2_001_Run230316 (22/198)'"
      ]
     },
     "metadata": {},
     "output_type": "display_data"
    },
    {
     "data": {
      "text/plain": [
       "'Computing MD5 for 12_S12_R1_001_Run230316 (23/198)'"
      ]
     },
     "metadata": {},
     "output_type": "display_data"
    },
    {
     "data": {
      "text/plain": [
       "'Computing MD5 for 12_S12_R2_001_Run230316 (24/198)'"
      ]
     },
     "metadata": {},
     "output_type": "display_data"
    },
    {
     "data": {
      "text/plain": [
       "'Computing MD5 for 13_S13_R1_001_Run230316 (25/198)'"
      ]
     },
     "metadata": {},
     "output_type": "display_data"
    },
    {
     "data": {
      "text/plain": [
       "'Computing MD5 for 13_S13_R2_001_Run230316 (26/198)'"
      ]
     },
     "metadata": {},
     "output_type": "display_data"
    },
    {
     "data": {
      "text/plain": [
       "'Computing MD5 for 14_S14_R1_001_Run230316 (27/198)'"
      ]
     },
     "metadata": {},
     "output_type": "display_data"
    },
    {
     "data": {
      "text/plain": [
       "'Computing MD5 for 14_S14_R2_001_Run230316 (28/198)'"
      ]
     },
     "metadata": {},
     "output_type": "display_data"
    },
    {
     "data": {
      "text/plain": [
       "'Computing MD5 for 15_S15_R1_001_Run230316 (29/198)'"
      ]
     },
     "metadata": {},
     "output_type": "display_data"
    },
    {
     "data": {
      "text/plain": [
       "'Computing MD5 for 15_S15_R2_001_Run230316 (30/198)'"
      ]
     },
     "metadata": {},
     "output_type": "display_data"
    },
    {
     "data": {
      "text/plain": [
       "'Computing MD5 for 16_S16_R1_001_Run230316 (31/198)'"
      ]
     },
     "metadata": {},
     "output_type": "display_data"
    },
    {
     "data": {
      "text/plain": [
       "'Computing MD5 for 16_S16_R2_001_Run230316 (32/198)'"
      ]
     },
     "metadata": {},
     "output_type": "display_data"
    },
    {
     "data": {
      "text/plain": [
       "'Computing MD5 for 17_S17_R1_001_Run230316 (33/198)'"
      ]
     },
     "metadata": {},
     "output_type": "display_data"
    },
    {
     "data": {
      "text/plain": [
       "'Computing MD5 for 17_S17_R2_001_Run230316 (34/198)'"
      ]
     },
     "metadata": {},
     "output_type": "display_data"
    },
    {
     "data": {
      "text/plain": [
       "'Computing MD5 for 18_S18_R1_001_Run230316 (35/198)'"
      ]
     },
     "metadata": {},
     "output_type": "display_data"
    },
    {
     "data": {
      "text/plain": [
       "'Computing MD5 for 18_S18_R2_001_Run230316 (36/198)'"
      ]
     },
     "metadata": {},
     "output_type": "display_data"
    },
    {
     "data": {
      "text/plain": [
       "'Computing MD5 for 19_S19_R1_001_Run230316 (37/198)'"
      ]
     },
     "metadata": {},
     "output_type": "display_data"
    },
    {
     "data": {
      "text/plain": [
       "'Computing MD5 for 19_S19_R2_001_Run230316 (38/198)'"
      ]
     },
     "metadata": {},
     "output_type": "display_data"
    },
    {
     "data": {
      "text/plain": [
       "'Computing MD5 for 20_S20_R1_001_Run230316 (39/198)'"
      ]
     },
     "metadata": {},
     "output_type": "display_data"
    },
    {
     "data": {
      "text/plain": [
       "'Computing MD5 for 20_S20_R2_001_Run230316 (40/198)'"
      ]
     },
     "metadata": {},
     "output_type": "display_data"
    },
    {
     "data": {
      "text/plain": [
       "'Computing MD5 for 21_S21_R1_001_Run230316 (41/198)'"
      ]
     },
     "metadata": {},
     "output_type": "display_data"
    },
    {
     "data": {
      "text/plain": [
       "'Computing MD5 for 21_S21_R2_001_Run230316 (42/198)'"
      ]
     },
     "metadata": {},
     "output_type": "display_data"
    },
    {
     "data": {
      "text/plain": [
       "'Computing MD5 for 22_S22_R1_001_Run230316 (43/198)'"
      ]
     },
     "metadata": {},
     "output_type": "display_data"
    },
    {
     "data": {
      "text/plain": [
       "'Computing MD5 for 22_S22_R2_001_Run230316 (44/198)'"
      ]
     },
     "metadata": {},
     "output_type": "display_data"
    },
    {
     "data": {
      "text/plain": [
       "'Computing MD5 for 23_S23_R1_001_Run230316 (45/198)'"
      ]
     },
     "metadata": {},
     "output_type": "display_data"
    },
    {
     "data": {
      "text/plain": [
       "'Computing MD5 for 23_S23_R2_001_Run230316 (46/198)'"
      ]
     },
     "metadata": {},
     "output_type": "display_data"
    },
    {
     "data": {
      "text/plain": [
       "'Computing MD5 for 24_S24_R1_001_Run230316 (47/198)'"
      ]
     },
     "metadata": {},
     "output_type": "display_data"
    },
    {
     "data": {
      "text/plain": [
       "'Computing MD5 for 24_S24_R2_001_Run230316 (48/198)'"
      ]
     },
     "metadata": {},
     "output_type": "display_data"
    },
    {
     "data": {
      "text/plain": [
       "'Computing MD5 for 25_S25_R1_001_Run230316 (49/198)'"
      ]
     },
     "metadata": {},
     "output_type": "display_data"
    },
    {
     "data": {
      "text/plain": [
       "'Computing MD5 for 25_S25_R2_001_Run230316 (50/198)'"
      ]
     },
     "metadata": {},
     "output_type": "display_data"
    },
    {
     "data": {
      "text/plain": [
       "'Computing MD5 for 26_S26_R1_001_Run230316 (51/198)'"
      ]
     },
     "metadata": {},
     "output_type": "display_data"
    },
    {
     "data": {
      "text/plain": [
       "'Computing MD5 for 26_S26_R2_001_Run230316 (52/198)'"
      ]
     },
     "metadata": {},
     "output_type": "display_data"
    },
    {
     "data": {
      "text/plain": [
       "'Computing MD5 for 27_S27_R1_001_Run230316 (53/198)'"
      ]
     },
     "metadata": {},
     "output_type": "display_data"
    },
    {
     "data": {
      "text/plain": [
       "'Computing MD5 for 27_S27_R2_001_Run230316 (54/198)'"
      ]
     },
     "metadata": {},
     "output_type": "display_data"
    },
    {
     "data": {
      "text/plain": [
       "'Computing MD5 for 28_S28_R1_001_Run230316 (55/198)'"
      ]
     },
     "metadata": {},
     "output_type": "display_data"
    },
    {
     "data": {
      "text/plain": [
       "'Computing MD5 for 28_S28_R2_001_Run230316 (56/198)'"
      ]
     },
     "metadata": {},
     "output_type": "display_data"
    },
    {
     "data": {
      "text/plain": [
       "'Computing MD5 for 29_S29_R1_001_Run230316 (57/198)'"
      ]
     },
     "metadata": {},
     "output_type": "display_data"
    },
    {
     "data": {
      "text/plain": [
       "'Computing MD5 for 29_S29_R2_001_Run230316 (58/198)'"
      ]
     },
     "metadata": {},
     "output_type": "display_data"
    },
    {
     "data": {
      "text/plain": [
       "'Computing MD5 for 30_S30_R1_001_Run230316 (59/198)'"
      ]
     },
     "metadata": {},
     "output_type": "display_data"
    },
    {
     "data": {
      "text/plain": [
       "'Computing MD5 for 30_S30_R2_001_Run230316 (60/198)'"
      ]
     },
     "metadata": {},
     "output_type": "display_data"
    },
    {
     "data": {
      "text/plain": [
       "'Computing MD5 for 31_S31_R1_001_Run230316 (61/198)'"
      ]
     },
     "metadata": {},
     "output_type": "display_data"
    },
    {
     "data": {
      "text/plain": [
       "'Computing MD5 for 31_S31_R2_001_Run230316 (62/198)'"
      ]
     },
     "metadata": {},
     "output_type": "display_data"
    },
    {
     "data": {
      "text/plain": [
       "'Computing MD5 for 32_S32_R1_001_Run230316 (63/198)'"
      ]
     },
     "metadata": {},
     "output_type": "display_data"
    },
    {
     "data": {
      "text/plain": [
       "'Computing MD5 for 32_S32_R2_001_Run230316 (64/198)'"
      ]
     },
     "metadata": {},
     "output_type": "display_data"
    },
    {
     "data": {
      "text/plain": [
       "'Computing MD5 for 33_S33_R1_001_Run230316 (65/198)'"
      ]
     },
     "metadata": {},
     "output_type": "display_data"
    },
    {
     "data": {
      "text/plain": [
       "'Computing MD5 for 33_S33_R2_001_Run230316 (66/198)'"
      ]
     },
     "metadata": {},
     "output_type": "display_data"
    },
    {
     "data": {
      "text/plain": [
       "'Computing MD5 for 1_S1_R1_001_Run230322 (67/198)'"
      ]
     },
     "metadata": {},
     "output_type": "display_data"
    },
    {
     "data": {
      "text/plain": [
       "'Computing MD5 for 1_S1_R2_001_Run230322 (68/198)'"
      ]
     },
     "metadata": {},
     "output_type": "display_data"
    },
    {
     "data": {
      "text/plain": [
       "'Computing MD5 for 2_S2_R1_001_Run230322 (69/198)'"
      ]
     },
     "metadata": {},
     "output_type": "display_data"
    },
    {
     "data": {
      "text/plain": [
       "'Computing MD5 for 2_S2_R2_001_Run230322 (70/198)'"
      ]
     },
     "metadata": {},
     "output_type": "display_data"
    },
    {
     "data": {
      "text/plain": [
       "'Computing MD5 for 3_S3_R1_001_Run230322 (71/198)'"
      ]
     },
     "metadata": {},
     "output_type": "display_data"
    },
    {
     "data": {
      "text/plain": [
       "'Computing MD5 for 3_S3_R2_001_Run230322 (72/198)'"
      ]
     },
     "metadata": {},
     "output_type": "display_data"
    },
    {
     "data": {
      "text/plain": [
       "'Computing MD5 for 4_S4_R1_001_Run230322 (73/198)'"
      ]
     },
     "metadata": {},
     "output_type": "display_data"
    },
    {
     "data": {
      "text/plain": [
       "'Computing MD5 for 4_S4_R2_001_Run230322 (74/198)'"
      ]
     },
     "metadata": {},
     "output_type": "display_data"
    },
    {
     "data": {
      "text/plain": [
       "'Computing MD5 for 5_S5_R1_001_Run230322 (75/198)'"
      ]
     },
     "metadata": {},
     "output_type": "display_data"
    },
    {
     "data": {
      "text/plain": [
       "'Computing MD5 for 5_S5_R2_001_Run230322 (76/198)'"
      ]
     },
     "metadata": {},
     "output_type": "display_data"
    },
    {
     "data": {
      "text/plain": [
       "'Computing MD5 for 6_S6_R1_001_Run230322 (77/198)'"
      ]
     },
     "metadata": {},
     "output_type": "display_data"
    },
    {
     "data": {
      "text/plain": [
       "'Computing MD5 for 6_S6_R2_001_Run230322 (78/198)'"
      ]
     },
     "metadata": {},
     "output_type": "display_data"
    },
    {
     "data": {
      "text/plain": [
       "'Computing MD5 for 7_S7_R1_001_Run230322 (79/198)'"
      ]
     },
     "metadata": {},
     "output_type": "display_data"
    },
    {
     "data": {
      "text/plain": [
       "'Computing MD5 for 7_S7_R2_001_Run230322 (80/198)'"
      ]
     },
     "metadata": {},
     "output_type": "display_data"
    },
    {
     "data": {
      "text/plain": [
       "'Computing MD5 for 8_S8_R1_001_Run230322 (81/198)'"
      ]
     },
     "metadata": {},
     "output_type": "display_data"
    },
    {
     "data": {
      "text/plain": [
       "'Computing MD5 for 8_S8_R2_001_Run230322 (82/198)'"
      ]
     },
     "metadata": {},
     "output_type": "display_data"
    },
    {
     "data": {
      "text/plain": [
       "'Computing MD5 for 9_S9_R1_001_Run230322 (83/198)'"
      ]
     },
     "metadata": {},
     "output_type": "display_data"
    },
    {
     "data": {
      "text/plain": [
       "'Computing MD5 for 9_S9_R2_001_Run230322 (84/198)'"
      ]
     },
     "metadata": {},
     "output_type": "display_data"
    },
    {
     "data": {
      "text/plain": [
       "'Computing MD5 for 10_S10_R1_001_Run230322 (85/198)'"
      ]
     },
     "metadata": {},
     "output_type": "display_data"
    },
    {
     "data": {
      "text/plain": [
       "'Computing MD5 for 10_S10_R2_001_Run230322 (86/198)'"
      ]
     },
     "metadata": {},
     "output_type": "display_data"
    },
    {
     "data": {
      "text/plain": [
       "'Computing MD5 for 11_S11_R1_001_Run230322 (87/198)'"
      ]
     },
     "metadata": {},
     "output_type": "display_data"
    },
    {
     "data": {
      "text/plain": [
       "'Computing MD5 for 11_S11_R2_001_Run230322 (88/198)'"
      ]
     },
     "metadata": {},
     "output_type": "display_data"
    },
    {
     "data": {
      "text/plain": [
       "'Computing MD5 for 12_S12_R1_001_Run230322 (89/198)'"
      ]
     },
     "metadata": {},
     "output_type": "display_data"
    },
    {
     "data": {
      "text/plain": [
       "'Computing MD5 for 12_S12_R2_001_Run230322 (90/198)'"
      ]
     },
     "metadata": {},
     "output_type": "display_data"
    },
    {
     "data": {
      "text/plain": [
       "'Computing MD5 for 13_S13_R1_001_Run230322 (91/198)'"
      ]
     },
     "metadata": {},
     "output_type": "display_data"
    },
    {
     "data": {
      "text/plain": [
       "'Computing MD5 for 13_S13_R2_001_Run230322 (92/198)'"
      ]
     },
     "metadata": {},
     "output_type": "display_data"
    },
    {
     "data": {
      "text/plain": [
       "'Computing MD5 for 14_S14_R1_001_Run230322 (93/198)'"
      ]
     },
     "metadata": {},
     "output_type": "display_data"
    },
    {
     "data": {
      "text/plain": [
       "'Computing MD5 for 14_S14_R2_001_Run230322 (94/198)'"
      ]
     },
     "metadata": {},
     "output_type": "display_data"
    },
    {
     "data": {
      "text/plain": [
       "'Computing MD5 for 15_S15_R1_001_Run230322 (95/198)'"
      ]
     },
     "metadata": {},
     "output_type": "display_data"
    },
    {
     "data": {
      "text/plain": [
       "'Computing MD5 for 15_S15_R2_001_Run230322 (96/198)'"
      ]
     },
     "metadata": {},
     "output_type": "display_data"
    },
    {
     "data": {
      "text/plain": [
       "'Computing MD5 for 16_S16_R1_001_Run230322 (97/198)'"
      ]
     },
     "metadata": {},
     "output_type": "display_data"
    },
    {
     "data": {
      "text/plain": [
       "'Computing MD5 for 16_S16_R2_001_Run230322 (98/198)'"
      ]
     },
     "metadata": {},
     "output_type": "display_data"
    },
    {
     "data": {
      "text/plain": [
       "'Computing MD5 for 17_S17_R1_001_Run230322 (99/198)'"
      ]
     },
     "metadata": {},
     "output_type": "display_data"
    },
    {
     "data": {
      "text/plain": [
       "'Computing MD5 for 17_S17_R2_001_Run230322 (100/198)'"
      ]
     },
     "metadata": {},
     "output_type": "display_data"
    },
    {
     "data": {
      "text/plain": [
       "'Computing MD5 for 18_S18_R1_001_Run230322 (101/198)'"
      ]
     },
     "metadata": {},
     "output_type": "display_data"
    },
    {
     "data": {
      "text/plain": [
       "'Computing MD5 for 18_S18_R2_001_Run230322 (102/198)'"
      ]
     },
     "metadata": {},
     "output_type": "display_data"
    },
    {
     "data": {
      "text/plain": [
       "'Computing MD5 for 19_S19_R1_001_Run230322 (103/198)'"
      ]
     },
     "metadata": {},
     "output_type": "display_data"
    },
    {
     "data": {
      "text/plain": [
       "'Computing MD5 for 19_S19_R2_001_Run230322 (104/198)'"
      ]
     },
     "metadata": {},
     "output_type": "display_data"
    },
    {
     "data": {
      "text/plain": [
       "'Computing MD5 for 20_S20_R1_001_Run230322 (105/198)'"
      ]
     },
     "metadata": {},
     "output_type": "display_data"
    },
    {
     "data": {
      "text/plain": [
       "'Computing MD5 for 20_S20_R2_001_Run230322 (106/198)'"
      ]
     },
     "metadata": {},
     "output_type": "display_data"
    },
    {
     "data": {
      "text/plain": [
       "'Computing MD5 for 21_S21_R1_001_Run230322 (107/198)'"
      ]
     },
     "metadata": {},
     "output_type": "display_data"
    },
    {
     "data": {
      "text/plain": [
       "'Computing MD5 for 21_S21_R2_001_Run230322 (108/198)'"
      ]
     },
     "metadata": {},
     "output_type": "display_data"
    },
    {
     "data": {
      "text/plain": [
       "'Computing MD5 for 22_S22_R1_001_Run230322 (109/198)'"
      ]
     },
     "metadata": {},
     "output_type": "display_data"
    },
    {
     "data": {
      "text/plain": [
       "'Computing MD5 for 22_S22_R2_001_Run230322 (110/198)'"
      ]
     },
     "metadata": {},
     "output_type": "display_data"
    },
    {
     "data": {
      "text/plain": [
       "'Computing MD5 for 23_S23_R1_001_Run230322 (111/198)'"
      ]
     },
     "metadata": {},
     "output_type": "display_data"
    },
    {
     "data": {
      "text/plain": [
       "'Computing MD5 for 23_S23_R2_001_Run230322 (112/198)'"
      ]
     },
     "metadata": {},
     "output_type": "display_data"
    },
    {
     "data": {
      "text/plain": [
       "'Computing MD5 for 24_S24_R1_001_Run230322 (113/198)'"
      ]
     },
     "metadata": {},
     "output_type": "display_data"
    },
    {
     "data": {
      "text/plain": [
       "'Computing MD5 for 24_S24_R2_001_Run230322 (114/198)'"
      ]
     },
     "metadata": {},
     "output_type": "display_data"
    },
    {
     "data": {
      "text/plain": [
       "'Computing MD5 for 25_S25_R1_001_Run230322 (115/198)'"
      ]
     },
     "metadata": {},
     "output_type": "display_data"
    },
    {
     "data": {
      "text/plain": [
       "'Computing MD5 for 25_S25_R2_001_Run230322 (116/198)'"
      ]
     },
     "metadata": {},
     "output_type": "display_data"
    },
    {
     "data": {
      "text/plain": [
       "'Computing MD5 for 26_S26_R1_001_Run230322 (117/198)'"
      ]
     },
     "metadata": {},
     "output_type": "display_data"
    },
    {
     "data": {
      "text/plain": [
       "'Computing MD5 for 26_S26_R2_001_Run230322 (118/198)'"
      ]
     },
     "metadata": {},
     "output_type": "display_data"
    },
    {
     "data": {
      "text/plain": [
       "'Computing MD5 for 27_S27_R1_001_Run230322 (119/198)'"
      ]
     },
     "metadata": {},
     "output_type": "display_data"
    },
    {
     "data": {
      "text/plain": [
       "'Computing MD5 for 27_S27_R2_001_Run230322 (120/198)'"
      ]
     },
     "metadata": {},
     "output_type": "display_data"
    },
    {
     "data": {
      "text/plain": [
       "'Computing MD5 for 28_S28_R1_001_Run230322 (121/198)'"
      ]
     },
     "metadata": {},
     "output_type": "display_data"
    },
    {
     "data": {
      "text/plain": [
       "'Computing MD5 for 28_S28_R2_001_Run230322 (122/198)'"
      ]
     },
     "metadata": {},
     "output_type": "display_data"
    },
    {
     "data": {
      "text/plain": [
       "'Computing MD5 for 29_S29_R1_001_Run230322 (123/198)'"
      ]
     },
     "metadata": {},
     "output_type": "display_data"
    },
    {
     "data": {
      "text/plain": [
       "'Computing MD5 for 29_S29_R2_001_Run230322 (124/198)'"
      ]
     },
     "metadata": {},
     "output_type": "display_data"
    },
    {
     "data": {
      "text/plain": [
       "'Computing MD5 for 30_S30_R1_001_Run230322 (125/198)'"
      ]
     },
     "metadata": {},
     "output_type": "display_data"
    },
    {
     "data": {
      "text/plain": [
       "'Computing MD5 for 30_S30_R2_001_Run230322 (126/198)'"
      ]
     },
     "metadata": {},
     "output_type": "display_data"
    },
    {
     "data": {
      "text/plain": [
       "'Computing MD5 for 31_S31_R1_001_Run230322 (127/198)'"
      ]
     },
     "metadata": {},
     "output_type": "display_data"
    },
    {
     "data": {
      "text/plain": [
       "'Computing MD5 for 31_S31_R2_001_Run230322 (128/198)'"
      ]
     },
     "metadata": {},
     "output_type": "display_data"
    },
    {
     "data": {
      "text/plain": [
       "'Computing MD5 for 32_S32_R1_001_Run230322 (129/198)'"
      ]
     },
     "metadata": {},
     "output_type": "display_data"
    },
    {
     "data": {
      "text/plain": [
       "'Computing MD5 for 32_S32_R2_001_Run230322 (130/198)'"
      ]
     },
     "metadata": {},
     "output_type": "display_data"
    },
    {
     "data": {
      "text/plain": [
       "'Computing MD5 for 33_S33_R1_001_Run230322 (131/198)'"
      ]
     },
     "metadata": {},
     "output_type": "display_data"
    },
    {
     "data": {
      "text/plain": [
       "'Computing MD5 for 33_S33_R2_001_Run230322 (132/198)'"
      ]
     },
     "metadata": {},
     "output_type": "display_data"
    },
    {
     "data": {
      "text/plain": [
       "'Computing MD5 for 1_S1_R1_001_Run230323 (133/198)'"
      ]
     },
     "metadata": {},
     "output_type": "display_data"
    },
    {
     "data": {
      "text/plain": [
       "'Computing MD5 for 1_S1_R2_001_Run230323 (134/198)'"
      ]
     },
     "metadata": {},
     "output_type": "display_data"
    },
    {
     "data": {
      "text/plain": [
       "'Computing MD5 for 2_S2_R1_001_Run230323 (135/198)'"
      ]
     },
     "metadata": {},
     "output_type": "display_data"
    },
    {
     "data": {
      "text/plain": [
       "'Computing MD5 for 2_S2_R2_001_Run230323 (136/198)'"
      ]
     },
     "metadata": {},
     "output_type": "display_data"
    },
    {
     "data": {
      "text/plain": [
       "'Computing MD5 for 3_S3_R1_001_Run230323 (137/198)'"
      ]
     },
     "metadata": {},
     "output_type": "display_data"
    },
    {
     "data": {
      "text/plain": [
       "'Computing MD5 for 3_S3_R2_001_Run230323 (138/198)'"
      ]
     },
     "metadata": {},
     "output_type": "display_data"
    },
    {
     "data": {
      "text/plain": [
       "'Computing MD5 for 4_S4_R1_001_Run230323 (139/198)'"
      ]
     },
     "metadata": {},
     "output_type": "display_data"
    },
    {
     "data": {
      "text/plain": [
       "'Computing MD5 for 4_S4_R2_001_Run230323 (140/198)'"
      ]
     },
     "metadata": {},
     "output_type": "display_data"
    },
    {
     "data": {
      "text/plain": [
       "'Computing MD5 for 5_S5_R1_001_Run230323 (141/198)'"
      ]
     },
     "metadata": {},
     "output_type": "display_data"
    },
    {
     "data": {
      "text/plain": [
       "'Computing MD5 for 5_S5_R2_001_Run230323 (142/198)'"
      ]
     },
     "metadata": {},
     "output_type": "display_data"
    },
    {
     "data": {
      "text/plain": [
       "'Computing MD5 for 6_S6_R1_001_Run230323 (143/198)'"
      ]
     },
     "metadata": {},
     "output_type": "display_data"
    },
    {
     "data": {
      "text/plain": [
       "'Computing MD5 for 6_S6_R2_001_Run230323 (144/198)'"
      ]
     },
     "metadata": {},
     "output_type": "display_data"
    },
    {
     "data": {
      "text/plain": [
       "'Computing MD5 for 7_S7_R1_001_Run230323 (145/198)'"
      ]
     },
     "metadata": {},
     "output_type": "display_data"
    },
    {
     "data": {
      "text/plain": [
       "'Computing MD5 for 7_S7_R2_001_Run230323 (146/198)'"
      ]
     },
     "metadata": {},
     "output_type": "display_data"
    },
    {
     "data": {
      "text/plain": [
       "'Computing MD5 for 8_S8_R1_001_Run230323 (147/198)'"
      ]
     },
     "metadata": {},
     "output_type": "display_data"
    },
    {
     "data": {
      "text/plain": [
       "'Computing MD5 for 8_S8_R2_001_Run230323 (148/198)'"
      ]
     },
     "metadata": {},
     "output_type": "display_data"
    },
    {
     "data": {
      "text/plain": [
       "'Computing MD5 for 9_S9_R1_001_Run230323 (149/198)'"
      ]
     },
     "metadata": {},
     "output_type": "display_data"
    },
    {
     "data": {
      "text/plain": [
       "'Computing MD5 for 9_S9_R2_001_Run230323 (150/198)'"
      ]
     },
     "metadata": {},
     "output_type": "display_data"
    },
    {
     "data": {
      "text/plain": [
       "'Computing MD5 for 10_S10_R1_001_Run230323 (151/198)'"
      ]
     },
     "metadata": {},
     "output_type": "display_data"
    },
    {
     "data": {
      "text/plain": [
       "'Computing MD5 for 10_S10_R2_001_Run230323 (152/198)'"
      ]
     },
     "metadata": {},
     "output_type": "display_data"
    },
    {
     "data": {
      "text/plain": [
       "'Computing MD5 for 11_S11_R1_001_Run230323 (153/198)'"
      ]
     },
     "metadata": {},
     "output_type": "display_data"
    },
    {
     "data": {
      "text/plain": [
       "'Computing MD5 for 11_S11_R2_001_Run230323 (154/198)'"
      ]
     },
     "metadata": {},
     "output_type": "display_data"
    },
    {
     "data": {
      "text/plain": [
       "'Computing MD5 for 12_S12_R1_001_Run230323 (155/198)'"
      ]
     },
     "metadata": {},
     "output_type": "display_data"
    },
    {
     "data": {
      "text/plain": [
       "'Computing MD5 for 12_S12_R2_001_Run230323 (156/198)'"
      ]
     },
     "metadata": {},
     "output_type": "display_data"
    },
    {
     "data": {
      "text/plain": [
       "'Computing MD5 for 13_S13_R1_001_Run230323 (157/198)'"
      ]
     },
     "metadata": {},
     "output_type": "display_data"
    },
    {
     "data": {
      "text/plain": [
       "'Computing MD5 for 13_S13_R2_001_Run230323 (158/198)'"
      ]
     },
     "metadata": {},
     "output_type": "display_data"
    },
    {
     "data": {
      "text/plain": [
       "'Computing MD5 for 14_S14_R1_001_Run230323 (159/198)'"
      ]
     },
     "metadata": {},
     "output_type": "display_data"
    },
    {
     "data": {
      "text/plain": [
       "'Computing MD5 for 14_S14_R2_001_Run230323 (160/198)'"
      ]
     },
     "metadata": {},
     "output_type": "display_data"
    },
    {
     "data": {
      "text/plain": [
       "'Computing MD5 for 15_S15_R1_001_Run230323 (161/198)'"
      ]
     },
     "metadata": {},
     "output_type": "display_data"
    },
    {
     "data": {
      "text/plain": [
       "'Computing MD5 for 15_S15_R2_001_Run230323 (162/198)'"
      ]
     },
     "metadata": {},
     "output_type": "display_data"
    },
    {
     "data": {
      "text/plain": [
       "'Computing MD5 for 16_S16_R1_001_Run230323 (163/198)'"
      ]
     },
     "metadata": {},
     "output_type": "display_data"
    },
    {
     "data": {
      "text/plain": [
       "'Computing MD5 for 16_S16_R2_001_Run230323 (164/198)'"
      ]
     },
     "metadata": {},
     "output_type": "display_data"
    },
    {
     "data": {
      "text/plain": [
       "'Computing MD5 for 17_S17_R1_001_Run230323 (165/198)'"
      ]
     },
     "metadata": {},
     "output_type": "display_data"
    },
    {
     "data": {
      "text/plain": [
       "'Computing MD5 for 17_S17_R2_001_Run230323 (166/198)'"
      ]
     },
     "metadata": {},
     "output_type": "display_data"
    },
    {
     "data": {
      "text/plain": [
       "'Computing MD5 for 18_S18_R1_001_Run230323 (167/198)'"
      ]
     },
     "metadata": {},
     "output_type": "display_data"
    },
    {
     "data": {
      "text/plain": [
       "'Computing MD5 for 18_S18_R2_001_Run230323 (168/198)'"
      ]
     },
     "metadata": {},
     "output_type": "display_data"
    },
    {
     "data": {
      "text/plain": [
       "'Computing MD5 for 19_S19_R1_001_Run230323 (169/198)'"
      ]
     },
     "metadata": {},
     "output_type": "display_data"
    },
    {
     "data": {
      "text/plain": [
       "'Computing MD5 for 19_S19_R2_001_Run230323 (170/198)'"
      ]
     },
     "metadata": {},
     "output_type": "display_data"
    },
    {
     "data": {
      "text/plain": [
       "'Computing MD5 for 20_S20_R1_001_Run230323 (171/198)'"
      ]
     },
     "metadata": {},
     "output_type": "display_data"
    },
    {
     "data": {
      "text/plain": [
       "'Computing MD5 for 20_S20_R2_001_Run230323 (172/198)'"
      ]
     },
     "metadata": {},
     "output_type": "display_data"
    },
    {
     "data": {
      "text/plain": [
       "'Computing MD5 for 21_S21_R1_001_Run230323 (173/198)'"
      ]
     },
     "metadata": {},
     "output_type": "display_data"
    },
    {
     "data": {
      "text/plain": [
       "'Computing MD5 for 21_S21_R2_001_Run230323 (174/198)'"
      ]
     },
     "metadata": {},
     "output_type": "display_data"
    },
    {
     "data": {
      "text/plain": [
       "'Computing MD5 for 22_S22_R1_001_Run230323 (175/198)'"
      ]
     },
     "metadata": {},
     "output_type": "display_data"
    },
    {
     "data": {
      "text/plain": [
       "'Computing MD5 for 22_S22_R2_001_Run230323 (176/198)'"
      ]
     },
     "metadata": {},
     "output_type": "display_data"
    },
    {
     "data": {
      "text/plain": [
       "'Computing MD5 for 23_S23_R1_001_Run230323 (177/198)'"
      ]
     },
     "metadata": {},
     "output_type": "display_data"
    },
    {
     "data": {
      "text/plain": [
       "'Computing MD5 for 23_S23_R2_001_Run230323 (178/198)'"
      ]
     },
     "metadata": {},
     "output_type": "display_data"
    },
    {
     "data": {
      "text/plain": [
       "'Computing MD5 for 24_S24_R1_001_Run230323 (179/198)'"
      ]
     },
     "metadata": {},
     "output_type": "display_data"
    },
    {
     "data": {
      "text/plain": [
       "'Computing MD5 for 24_S24_R2_001_Run230323 (180/198)'"
      ]
     },
     "metadata": {},
     "output_type": "display_data"
    },
    {
     "data": {
      "text/plain": [
       "'Computing MD5 for 25_S25_R1_001_Run230323 (181/198)'"
      ]
     },
     "metadata": {},
     "output_type": "display_data"
    },
    {
     "data": {
      "text/plain": [
       "'Computing MD5 for 25_S25_R2_001_Run230323 (182/198)'"
      ]
     },
     "metadata": {},
     "output_type": "display_data"
    },
    {
     "data": {
      "text/plain": [
       "'Computing MD5 for 26_S26_R1_001_Run230323 (183/198)'"
      ]
     },
     "metadata": {},
     "output_type": "display_data"
    },
    {
     "data": {
      "text/plain": [
       "'Computing MD5 for 26_S26_R2_001_Run230323 (184/198)'"
      ]
     },
     "metadata": {},
     "output_type": "display_data"
    },
    {
     "data": {
      "text/plain": [
       "'Computing MD5 for 27_S27_R1_001_Run230323 (185/198)'"
      ]
     },
     "metadata": {},
     "output_type": "display_data"
    },
    {
     "data": {
      "text/plain": [
       "'Computing MD5 for 27_S27_R2_001_Run230323 (186/198)'"
      ]
     },
     "metadata": {},
     "output_type": "display_data"
    },
    {
     "data": {
      "text/plain": [
       "'Computing MD5 for 28_S28_R1_001_Run230323 (187/198)'"
      ]
     },
     "metadata": {},
     "output_type": "display_data"
    },
    {
     "data": {
      "text/plain": [
       "'Computing MD5 for 28_S28_R2_001_Run230323 (188/198)'"
      ]
     },
     "metadata": {},
     "output_type": "display_data"
    },
    {
     "data": {
      "text/plain": [
       "'Computing MD5 for 29_S29_R1_001_Run230323 (189/198)'"
      ]
     },
     "metadata": {},
     "output_type": "display_data"
    },
    {
     "data": {
      "text/plain": [
       "'Computing MD5 for 29_S29_R2_001_Run230323 (190/198)'"
      ]
     },
     "metadata": {},
     "output_type": "display_data"
    },
    {
     "data": {
      "text/plain": [
       "'Computing MD5 for 30_S30_R1_001_Run230323 (191/198)'"
      ]
     },
     "metadata": {},
     "output_type": "display_data"
    },
    {
     "data": {
      "text/plain": [
       "'Computing MD5 for 30_S30_R2_001_Run230323 (192/198)'"
      ]
     },
     "metadata": {},
     "output_type": "display_data"
    },
    {
     "data": {
      "text/plain": [
       "'Computing MD5 for 31_S31_R1_001_Run230323 (193/198)'"
      ]
     },
     "metadata": {},
     "output_type": "display_data"
    },
    {
     "data": {
      "text/plain": [
       "'Computing MD5 for 31_S31_R2_001_Run230323 (194/198)'"
      ]
     },
     "metadata": {},
     "output_type": "display_data"
    },
    {
     "data": {
      "text/plain": [
       "'Computing MD5 for 32_S32_R1_001_Run230323 (195/198)'"
      ]
     },
     "metadata": {},
     "output_type": "display_data"
    },
    {
     "data": {
      "text/plain": [
       "'Computing MD5 for 32_S32_R2_001_Run230323 (196/198)'"
      ]
     },
     "metadata": {},
     "output_type": "display_data"
    },
    {
     "data": {
      "text/plain": [
       "'Computing MD5 for 33_S33_R1_001_Run230323 (197/198)'"
      ]
     },
     "metadata": {},
     "output_type": "display_data"
    },
    {
     "data": {
      "text/plain": [
       "'Computing MD5 for 33_S33_R2_001_Run230323 (198/198)'"
      ]
     },
     "metadata": {},
     "output_type": "display_data"
    },
    {
     "data": {
      "text/html": [
       "<div>\n",
       "<style scoped>\n",
       "    .dataframe tbody tr th:only-of-type {\n",
       "        vertical-align: middle;\n",
       "    }\n",
       "\n",
       "    .dataframe tbody tr th {\n",
       "        vertical-align: top;\n",
       "    }\n",
       "\n",
       "    .dataframe thead th {\n",
       "        text-align: right;\n",
       "    }\n",
       "</style>\n",
       "<table border=\"1\" class=\"dataframe\">\n",
       "  <thead>\n",
       "    <tr style=\"text-align: right;\">\n",
       "      <th></th>\n",
       "      <th>original_fastq_path</th>\n",
       "      <th>symlink_fastq_path</th>\n",
       "      <th>final_file_name</th>\n",
       "      <th>md5_checksum</th>\n",
       "    </tr>\n",
       "    <tr>\n",
       "      <th>sample_id</th>\n",
       "      <th></th>\n",
       "      <th></th>\n",
       "      <th></th>\n",
       "      <th></th>\n",
       "    </tr>\n",
       "  </thead>\n",
       "  <tbody>\n",
       "    <tr>\n",
       "      <th>1_S1_R1_001_Run230316</th>\n",
       "      <td>/Volumes/kueck/FASTQ/CellLines/RNA-Seq/230316_...</td>\n",
       "      <td></td>\n",
       "      <td></td>\n",
       "      <td>19cee84a6a3598930e2e6befdf203e0f</td>\n",
       "    </tr>\n",
       "    <tr>\n",
       "      <th>1_S1_R2_001_Run230316</th>\n",
       "      <td>/Volumes/kueck/FASTQ/CellLines/RNA-Seq/230316_...</td>\n",
       "      <td></td>\n",
       "      <td></td>\n",
       "      <td>a41a73120d75d1a5c4696488dc56af78</td>\n",
       "    </tr>\n",
       "    <tr>\n",
       "      <th>2_S2_R1_001_Run230316</th>\n",
       "      <td>/Volumes/kueck/FASTQ/CellLines/RNA-Seq/230316_...</td>\n",
       "      <td></td>\n",
       "      <td></td>\n",
       "      <td>0613d63ebd5346ef57124d458a5e9f7b</td>\n",
       "    </tr>\n",
       "    <tr>\n",
       "      <th>2_S2_R2_001_Run230316</th>\n",
       "      <td>/Volumes/kueck/FASTQ/CellLines/RNA-Seq/230316_...</td>\n",
       "      <td></td>\n",
       "      <td></td>\n",
       "      <td>46e40cbfdf13d025863609aab40e63cd</td>\n",
       "    </tr>\n",
       "    <tr>\n",
       "      <th>3_S3_R1_001_Run230316</th>\n",
       "      <td>/Volumes/kueck/FASTQ/CellLines/RNA-Seq/230316_...</td>\n",
       "      <td></td>\n",
       "      <td></td>\n",
       "      <td>e28b40d675a63b1837587ff28dc2a618</td>\n",
       "    </tr>\n",
       "    <tr>\n",
       "      <th>...</th>\n",
       "      <td>...</td>\n",
       "      <td>...</td>\n",
       "      <td>...</td>\n",
       "      <td>...</td>\n",
       "    </tr>\n",
       "    <tr>\n",
       "      <th>31_S31_R2_001_Run230323</th>\n",
       "      <td>/Volumes/kueck/FASTQ/CellLines/RNA-Seq/230323_...</td>\n",
       "      <td></td>\n",
       "      <td></td>\n",
       "      <td>267e934f226bb6bc9926fdcd69a8b063</td>\n",
       "    </tr>\n",
       "    <tr>\n",
       "      <th>32_S32_R1_001_Run230323</th>\n",
       "      <td>/Volumes/kueck/FASTQ/CellLines/RNA-Seq/230323_...</td>\n",
       "      <td></td>\n",
       "      <td></td>\n",
       "      <td>c8634cdab2082b4198d58ccc0057f77b</td>\n",
       "    </tr>\n",
       "    <tr>\n",
       "      <th>32_S32_R2_001_Run230323</th>\n",
       "      <td>/Volumes/kueck/FASTQ/CellLines/RNA-Seq/230323_...</td>\n",
       "      <td></td>\n",
       "      <td></td>\n",
       "      <td>b332e910a17b49a3f1599ee04b4d2743</td>\n",
       "    </tr>\n",
       "    <tr>\n",
       "      <th>33_S33_R1_001_Run230323</th>\n",
       "      <td>/Volumes/kueck/FASTQ/CellLines/RNA-Seq/230323_...</td>\n",
       "      <td></td>\n",
       "      <td></td>\n",
       "      <td>4214a83565ed2095db0cf9a49fec95af</td>\n",
       "    </tr>\n",
       "    <tr>\n",
       "      <th>33_S33_R2_001_Run230323</th>\n",
       "      <td>/Volumes/kueck/FASTQ/CellLines/RNA-Seq/230323_...</td>\n",
       "      <td></td>\n",
       "      <td></td>\n",
       "      <td>d63eaf377ef182909d4a4394095ef673</td>\n",
       "    </tr>\n",
       "  </tbody>\n",
       "</table>\n",
       "<p>198 rows × 4 columns</p>\n",
       "</div>"
      ],
      "text/plain": [
       "                                                       original_fastq_path  \\\n",
       "sample_id                                                                    \n",
       "1_S1_R1_001_Run230316    /Volumes/kueck/FASTQ/CellLines/RNA-Seq/230316_...   \n",
       "1_S1_R2_001_Run230316    /Volumes/kueck/FASTQ/CellLines/RNA-Seq/230316_...   \n",
       "2_S2_R1_001_Run230316    /Volumes/kueck/FASTQ/CellLines/RNA-Seq/230316_...   \n",
       "2_S2_R2_001_Run230316    /Volumes/kueck/FASTQ/CellLines/RNA-Seq/230316_...   \n",
       "3_S3_R1_001_Run230316    /Volumes/kueck/FASTQ/CellLines/RNA-Seq/230316_...   \n",
       "...                                                                    ...   \n",
       "31_S31_R2_001_Run230323  /Volumes/kueck/FASTQ/CellLines/RNA-Seq/230323_...   \n",
       "32_S32_R1_001_Run230323  /Volumes/kueck/FASTQ/CellLines/RNA-Seq/230323_...   \n",
       "32_S32_R2_001_Run230323  /Volumes/kueck/FASTQ/CellLines/RNA-Seq/230323_...   \n",
       "33_S33_R1_001_Run230323  /Volumes/kueck/FASTQ/CellLines/RNA-Seq/230323_...   \n",
       "33_S33_R2_001_Run230323  /Volumes/kueck/FASTQ/CellLines/RNA-Seq/230323_...   \n",
       "\n",
       "                        symlink_fastq_path final_file_name  \\\n",
       "sample_id                                                    \n",
       "1_S1_R1_001_Run230316                                        \n",
       "1_S1_R2_001_Run230316                                        \n",
       "2_S2_R1_001_Run230316                                        \n",
       "2_S2_R2_001_Run230316                                        \n",
       "3_S3_R1_001_Run230316                                        \n",
       "...                                    ...             ...   \n",
       "31_S31_R2_001_Run230323                                      \n",
       "32_S32_R1_001_Run230323                                      \n",
       "32_S32_R2_001_Run230323                                      \n",
       "33_S33_R1_001_Run230323                                      \n",
       "33_S33_R2_001_Run230323                                      \n",
       "\n",
       "                                             md5_checksum  \n",
       "sample_id                                                  \n",
       "1_S1_R1_001_Run230316    19cee84a6a3598930e2e6befdf203e0f  \n",
       "1_S1_R2_001_Run230316    a41a73120d75d1a5c4696488dc56af78  \n",
       "2_S2_R1_001_Run230316    0613d63ebd5346ef57124d458a5e9f7b  \n",
       "2_S2_R2_001_Run230316    46e40cbfdf13d025863609aab40e63cd  \n",
       "3_S3_R1_001_Run230316    e28b40d675a63b1837587ff28dc2a618  \n",
       "...                                                   ...  \n",
       "31_S31_R2_001_Run230323  267e934f226bb6bc9926fdcd69a8b063  \n",
       "32_S32_R1_001_Run230323  c8634cdab2082b4198d58ccc0057f77b  \n",
       "32_S32_R2_001_Run230323  b332e910a17b49a3f1599ee04b4d2743  \n",
       "33_S33_R1_001_Run230323  4214a83565ed2095db0cf9a49fec95af  \n",
       "33_S33_R2_001_Run230323  d63eaf377ef182909d4a4394095ef673  \n",
       "\n",
       "[198 rows x 4 columns]"
      ]
     },
     "metadata": {},
     "output_type": "display_data"
    }
   ],
   "source": [
    "i = 1\n",
    "for sample_id, row in sample_info.iterrows():\n",
    "    display(f\"Computing MD5 for {sample_id} ({i}/{len(sample_info)})\")\n",
    "    sample_original_path = row[\"original_fastq_path\"]\n",
    "\n",
    "    # Compute md5 checksum\n",
    "    md5_checksum = compute_md5_checksum(sample_original_path)\n",
    "\n",
    "    # Update sample info\n",
    "    sample_info.at[sample_id, \"md5_checksum\"] = md5_checksum\n",
    "\n",
    "    i += 1\n",
    "\n",
    "display(sample_info)"
   ]
  },
  {
   "cell_type": "markdown",
   "metadata": {},
   "source": [
    "## Make a symlink to fastq files"
   ]
  },
  {
   "cell_type": "code",
   "execution_count": 8,
   "metadata": {},
   "outputs": [
    {
     "data": {
      "text/plain": [
       "'Making symlink for fastq file 1_S1_R1_001_Run230316 (1/198)'"
      ]
     },
     "metadata": {},
     "output_type": "display_data"
    },
    {
     "data": {
      "text/plain": [
       "'Making symlink for fastq file 1_S1_R2_001_Run230316 (2/198)'"
      ]
     },
     "metadata": {},
     "output_type": "display_data"
    },
    {
     "data": {
      "text/plain": [
       "'Making symlink for fastq file 2_S2_R1_001_Run230316 (3/198)'"
      ]
     },
     "metadata": {},
     "output_type": "display_data"
    },
    {
     "data": {
      "text/plain": [
       "'Making symlink for fastq file 2_S2_R2_001_Run230316 (4/198)'"
      ]
     },
     "metadata": {},
     "output_type": "display_data"
    },
    {
     "data": {
      "text/plain": [
       "'Making symlink for fastq file 3_S3_R1_001_Run230316 (5/198)'"
      ]
     },
     "metadata": {},
     "output_type": "display_data"
    },
    {
     "data": {
      "text/plain": [
       "'Making symlink for fastq file 3_S3_R2_001_Run230316 (6/198)'"
      ]
     },
     "metadata": {},
     "output_type": "display_data"
    },
    {
     "data": {
      "text/plain": [
       "'Making symlink for fastq file 4_S4_R1_001_Run230316 (7/198)'"
      ]
     },
     "metadata": {},
     "output_type": "display_data"
    },
    {
     "data": {
      "text/plain": [
       "'Making symlink for fastq file 4_S4_R2_001_Run230316 (8/198)'"
      ]
     },
     "metadata": {},
     "output_type": "display_data"
    },
    {
     "data": {
      "text/plain": [
       "'Making symlink for fastq file 5_S5_R1_001_Run230316 (9/198)'"
      ]
     },
     "metadata": {},
     "output_type": "display_data"
    },
    {
     "data": {
      "text/plain": [
       "'Making symlink for fastq file 5_S5_R2_001_Run230316 (10/198)'"
      ]
     },
     "metadata": {},
     "output_type": "display_data"
    },
    {
     "data": {
      "text/plain": [
       "'Making symlink for fastq file 6_S6_R1_001_Run230316 (11/198)'"
      ]
     },
     "metadata": {},
     "output_type": "display_data"
    },
    {
     "data": {
      "text/plain": [
       "'Making symlink for fastq file 6_S6_R2_001_Run230316 (12/198)'"
      ]
     },
     "metadata": {},
     "output_type": "display_data"
    },
    {
     "data": {
      "text/plain": [
       "'Making symlink for fastq file 7_S7_R1_001_Run230316 (13/198)'"
      ]
     },
     "metadata": {},
     "output_type": "display_data"
    },
    {
     "data": {
      "text/plain": [
       "'Making symlink for fastq file 7_S7_R2_001_Run230316 (14/198)'"
      ]
     },
     "metadata": {},
     "output_type": "display_data"
    },
    {
     "data": {
      "text/plain": [
       "'Making symlink for fastq file 8_S8_R1_001_Run230316 (15/198)'"
      ]
     },
     "metadata": {},
     "output_type": "display_data"
    },
    {
     "data": {
      "text/plain": [
       "'Making symlink for fastq file 8_S8_R2_001_Run230316 (16/198)'"
      ]
     },
     "metadata": {},
     "output_type": "display_data"
    },
    {
     "data": {
      "text/plain": [
       "'Making symlink for fastq file 9_S9_R1_001_Run230316 (17/198)'"
      ]
     },
     "metadata": {},
     "output_type": "display_data"
    },
    {
     "data": {
      "text/plain": [
       "'Making symlink for fastq file 9_S9_R2_001_Run230316 (18/198)'"
      ]
     },
     "metadata": {},
     "output_type": "display_data"
    },
    {
     "data": {
      "text/plain": [
       "'Making symlink for fastq file 10_S10_R1_001_Run230316 (19/198)'"
      ]
     },
     "metadata": {},
     "output_type": "display_data"
    },
    {
     "data": {
      "text/plain": [
       "'Making symlink for fastq file 10_S10_R2_001_Run230316 (20/198)'"
      ]
     },
     "metadata": {},
     "output_type": "display_data"
    },
    {
     "data": {
      "text/plain": [
       "'Making symlink for fastq file 11_S11_R1_001_Run230316 (21/198)'"
      ]
     },
     "metadata": {},
     "output_type": "display_data"
    },
    {
     "data": {
      "text/plain": [
       "'Making symlink for fastq file 11_S11_R2_001_Run230316 (22/198)'"
      ]
     },
     "metadata": {},
     "output_type": "display_data"
    },
    {
     "data": {
      "text/plain": [
       "'Making symlink for fastq file 12_S12_R1_001_Run230316 (23/198)'"
      ]
     },
     "metadata": {},
     "output_type": "display_data"
    },
    {
     "data": {
      "text/plain": [
       "'Making symlink for fastq file 12_S12_R2_001_Run230316 (24/198)'"
      ]
     },
     "metadata": {},
     "output_type": "display_data"
    },
    {
     "data": {
      "text/plain": [
       "'Making symlink for fastq file 13_S13_R1_001_Run230316 (25/198)'"
      ]
     },
     "metadata": {},
     "output_type": "display_data"
    },
    {
     "data": {
      "text/plain": [
       "'Making symlink for fastq file 13_S13_R2_001_Run230316 (26/198)'"
      ]
     },
     "metadata": {},
     "output_type": "display_data"
    },
    {
     "data": {
      "text/plain": [
       "'Making symlink for fastq file 14_S14_R1_001_Run230316 (27/198)'"
      ]
     },
     "metadata": {},
     "output_type": "display_data"
    },
    {
     "data": {
      "text/plain": [
       "'Making symlink for fastq file 14_S14_R2_001_Run230316 (28/198)'"
      ]
     },
     "metadata": {},
     "output_type": "display_data"
    },
    {
     "data": {
      "text/plain": [
       "'Making symlink for fastq file 15_S15_R1_001_Run230316 (29/198)'"
      ]
     },
     "metadata": {},
     "output_type": "display_data"
    },
    {
     "data": {
      "text/plain": [
       "'Making symlink for fastq file 15_S15_R2_001_Run230316 (30/198)'"
      ]
     },
     "metadata": {},
     "output_type": "display_data"
    },
    {
     "data": {
      "text/plain": [
       "'Making symlink for fastq file 16_S16_R1_001_Run230316 (31/198)'"
      ]
     },
     "metadata": {},
     "output_type": "display_data"
    },
    {
     "data": {
      "text/plain": [
       "'Making symlink for fastq file 16_S16_R2_001_Run230316 (32/198)'"
      ]
     },
     "metadata": {},
     "output_type": "display_data"
    },
    {
     "data": {
      "text/plain": [
       "'Making symlink for fastq file 17_S17_R1_001_Run230316 (33/198)'"
      ]
     },
     "metadata": {},
     "output_type": "display_data"
    },
    {
     "data": {
      "text/plain": [
       "'Making symlink for fastq file 17_S17_R2_001_Run230316 (34/198)'"
      ]
     },
     "metadata": {},
     "output_type": "display_data"
    },
    {
     "data": {
      "text/plain": [
       "'Making symlink for fastq file 18_S18_R1_001_Run230316 (35/198)'"
      ]
     },
     "metadata": {},
     "output_type": "display_data"
    },
    {
     "data": {
      "text/plain": [
       "'Making symlink for fastq file 18_S18_R2_001_Run230316 (36/198)'"
      ]
     },
     "metadata": {},
     "output_type": "display_data"
    },
    {
     "data": {
      "text/plain": [
       "'Making symlink for fastq file 19_S19_R1_001_Run230316 (37/198)'"
      ]
     },
     "metadata": {},
     "output_type": "display_data"
    },
    {
     "data": {
      "text/plain": [
       "'Making symlink for fastq file 19_S19_R2_001_Run230316 (38/198)'"
      ]
     },
     "metadata": {},
     "output_type": "display_data"
    },
    {
     "data": {
      "text/plain": [
       "'Making symlink for fastq file 20_S20_R1_001_Run230316 (39/198)'"
      ]
     },
     "metadata": {},
     "output_type": "display_data"
    },
    {
     "data": {
      "text/plain": [
       "'Making symlink for fastq file 20_S20_R2_001_Run230316 (40/198)'"
      ]
     },
     "metadata": {},
     "output_type": "display_data"
    },
    {
     "data": {
      "text/plain": [
       "'Making symlink for fastq file 21_S21_R1_001_Run230316 (41/198)'"
      ]
     },
     "metadata": {},
     "output_type": "display_data"
    },
    {
     "data": {
      "text/plain": [
       "'Making symlink for fastq file 21_S21_R2_001_Run230316 (42/198)'"
      ]
     },
     "metadata": {},
     "output_type": "display_data"
    },
    {
     "data": {
      "text/plain": [
       "'Making symlink for fastq file 22_S22_R1_001_Run230316 (43/198)'"
      ]
     },
     "metadata": {},
     "output_type": "display_data"
    },
    {
     "data": {
      "text/plain": [
       "'Making symlink for fastq file 22_S22_R2_001_Run230316 (44/198)'"
      ]
     },
     "metadata": {},
     "output_type": "display_data"
    },
    {
     "data": {
      "text/plain": [
       "'Making symlink for fastq file 23_S23_R1_001_Run230316 (45/198)'"
      ]
     },
     "metadata": {},
     "output_type": "display_data"
    },
    {
     "data": {
      "text/plain": [
       "'Making symlink for fastq file 23_S23_R2_001_Run230316 (46/198)'"
      ]
     },
     "metadata": {},
     "output_type": "display_data"
    },
    {
     "data": {
      "text/plain": [
       "'Making symlink for fastq file 24_S24_R1_001_Run230316 (47/198)'"
      ]
     },
     "metadata": {},
     "output_type": "display_data"
    },
    {
     "data": {
      "text/plain": [
       "'Making symlink for fastq file 24_S24_R2_001_Run230316 (48/198)'"
      ]
     },
     "metadata": {},
     "output_type": "display_data"
    },
    {
     "data": {
      "text/plain": [
       "'Making symlink for fastq file 25_S25_R1_001_Run230316 (49/198)'"
      ]
     },
     "metadata": {},
     "output_type": "display_data"
    },
    {
     "data": {
      "text/plain": [
       "'Making symlink for fastq file 25_S25_R2_001_Run230316 (50/198)'"
      ]
     },
     "metadata": {},
     "output_type": "display_data"
    },
    {
     "data": {
      "text/plain": [
       "'Making symlink for fastq file 26_S26_R1_001_Run230316 (51/198)'"
      ]
     },
     "metadata": {},
     "output_type": "display_data"
    },
    {
     "data": {
      "text/plain": [
       "'Making symlink for fastq file 26_S26_R2_001_Run230316 (52/198)'"
      ]
     },
     "metadata": {},
     "output_type": "display_data"
    },
    {
     "data": {
      "text/plain": [
       "'Making symlink for fastq file 27_S27_R1_001_Run230316 (53/198)'"
      ]
     },
     "metadata": {},
     "output_type": "display_data"
    },
    {
     "data": {
      "text/plain": [
       "'Making symlink for fastq file 27_S27_R2_001_Run230316 (54/198)'"
      ]
     },
     "metadata": {},
     "output_type": "display_data"
    },
    {
     "data": {
      "text/plain": [
       "'Making symlink for fastq file 28_S28_R1_001_Run230316 (55/198)'"
      ]
     },
     "metadata": {},
     "output_type": "display_data"
    },
    {
     "data": {
      "text/plain": [
       "'Making symlink for fastq file 28_S28_R2_001_Run230316 (56/198)'"
      ]
     },
     "metadata": {},
     "output_type": "display_data"
    },
    {
     "data": {
      "text/plain": [
       "'Making symlink for fastq file 29_S29_R1_001_Run230316 (57/198)'"
      ]
     },
     "metadata": {},
     "output_type": "display_data"
    },
    {
     "data": {
      "text/plain": [
       "'Making symlink for fastq file 29_S29_R2_001_Run230316 (58/198)'"
      ]
     },
     "metadata": {},
     "output_type": "display_data"
    },
    {
     "data": {
      "text/plain": [
       "'Making symlink for fastq file 30_S30_R1_001_Run230316 (59/198)'"
      ]
     },
     "metadata": {},
     "output_type": "display_data"
    },
    {
     "data": {
      "text/plain": [
       "'Making symlink for fastq file 30_S30_R2_001_Run230316 (60/198)'"
      ]
     },
     "metadata": {},
     "output_type": "display_data"
    },
    {
     "data": {
      "text/plain": [
       "'Making symlink for fastq file 31_S31_R1_001_Run230316 (61/198)'"
      ]
     },
     "metadata": {},
     "output_type": "display_data"
    },
    {
     "data": {
      "text/plain": [
       "'Making symlink for fastq file 31_S31_R2_001_Run230316 (62/198)'"
      ]
     },
     "metadata": {},
     "output_type": "display_data"
    },
    {
     "data": {
      "text/plain": [
       "'Making symlink for fastq file 32_S32_R1_001_Run230316 (63/198)'"
      ]
     },
     "metadata": {},
     "output_type": "display_data"
    },
    {
     "data": {
      "text/plain": [
       "'Making symlink for fastq file 32_S32_R2_001_Run230316 (64/198)'"
      ]
     },
     "metadata": {},
     "output_type": "display_data"
    },
    {
     "data": {
      "text/plain": [
       "'Making symlink for fastq file 33_S33_R1_001_Run230316 (65/198)'"
      ]
     },
     "metadata": {},
     "output_type": "display_data"
    },
    {
     "data": {
      "text/plain": [
       "'Making symlink for fastq file 33_S33_R2_001_Run230316 (66/198)'"
      ]
     },
     "metadata": {},
     "output_type": "display_data"
    },
    {
     "data": {
      "text/plain": [
       "'Making symlink for fastq file 1_S1_R1_001_Run230322 (67/198)'"
      ]
     },
     "metadata": {},
     "output_type": "display_data"
    },
    {
     "data": {
      "text/plain": [
       "'Making symlink for fastq file 1_S1_R2_001_Run230322 (68/198)'"
      ]
     },
     "metadata": {},
     "output_type": "display_data"
    },
    {
     "data": {
      "text/plain": [
       "'Making symlink for fastq file 2_S2_R1_001_Run230322 (69/198)'"
      ]
     },
     "metadata": {},
     "output_type": "display_data"
    },
    {
     "data": {
      "text/plain": [
       "'Making symlink for fastq file 2_S2_R2_001_Run230322 (70/198)'"
      ]
     },
     "metadata": {},
     "output_type": "display_data"
    },
    {
     "data": {
      "text/plain": [
       "'Making symlink for fastq file 3_S3_R1_001_Run230322 (71/198)'"
      ]
     },
     "metadata": {},
     "output_type": "display_data"
    },
    {
     "data": {
      "text/plain": [
       "'Making symlink for fastq file 3_S3_R2_001_Run230322 (72/198)'"
      ]
     },
     "metadata": {},
     "output_type": "display_data"
    },
    {
     "data": {
      "text/plain": [
       "'Making symlink for fastq file 4_S4_R1_001_Run230322 (73/198)'"
      ]
     },
     "metadata": {},
     "output_type": "display_data"
    },
    {
     "data": {
      "text/plain": [
       "'Making symlink for fastq file 4_S4_R2_001_Run230322 (74/198)'"
      ]
     },
     "metadata": {},
     "output_type": "display_data"
    },
    {
     "data": {
      "text/plain": [
       "'Making symlink for fastq file 5_S5_R1_001_Run230322 (75/198)'"
      ]
     },
     "metadata": {},
     "output_type": "display_data"
    },
    {
     "data": {
      "text/plain": [
       "'Making symlink for fastq file 5_S5_R2_001_Run230322 (76/198)'"
      ]
     },
     "metadata": {},
     "output_type": "display_data"
    },
    {
     "data": {
      "text/plain": [
       "'Making symlink for fastq file 6_S6_R1_001_Run230322 (77/198)'"
      ]
     },
     "metadata": {},
     "output_type": "display_data"
    },
    {
     "data": {
      "text/plain": [
       "'Making symlink for fastq file 6_S6_R2_001_Run230322 (78/198)'"
      ]
     },
     "metadata": {},
     "output_type": "display_data"
    },
    {
     "data": {
      "text/plain": [
       "'Making symlink for fastq file 7_S7_R1_001_Run230322 (79/198)'"
      ]
     },
     "metadata": {},
     "output_type": "display_data"
    },
    {
     "data": {
      "text/plain": [
       "'Making symlink for fastq file 7_S7_R2_001_Run230322 (80/198)'"
      ]
     },
     "metadata": {},
     "output_type": "display_data"
    },
    {
     "data": {
      "text/plain": [
       "'Making symlink for fastq file 8_S8_R1_001_Run230322 (81/198)'"
      ]
     },
     "metadata": {},
     "output_type": "display_data"
    },
    {
     "data": {
      "text/plain": [
       "'Making symlink for fastq file 8_S8_R2_001_Run230322 (82/198)'"
      ]
     },
     "metadata": {},
     "output_type": "display_data"
    },
    {
     "data": {
      "text/plain": [
       "'Making symlink for fastq file 9_S9_R1_001_Run230322 (83/198)'"
      ]
     },
     "metadata": {},
     "output_type": "display_data"
    },
    {
     "data": {
      "text/plain": [
       "'Making symlink for fastq file 9_S9_R2_001_Run230322 (84/198)'"
      ]
     },
     "metadata": {},
     "output_type": "display_data"
    },
    {
     "data": {
      "text/plain": [
       "'Making symlink for fastq file 10_S10_R1_001_Run230322 (85/198)'"
      ]
     },
     "metadata": {},
     "output_type": "display_data"
    },
    {
     "data": {
      "text/plain": [
       "'Making symlink for fastq file 10_S10_R2_001_Run230322 (86/198)'"
      ]
     },
     "metadata": {},
     "output_type": "display_data"
    },
    {
     "data": {
      "text/plain": [
       "'Making symlink for fastq file 11_S11_R1_001_Run230322 (87/198)'"
      ]
     },
     "metadata": {},
     "output_type": "display_data"
    },
    {
     "data": {
      "text/plain": [
       "'Making symlink for fastq file 11_S11_R2_001_Run230322 (88/198)'"
      ]
     },
     "metadata": {},
     "output_type": "display_data"
    },
    {
     "data": {
      "text/plain": [
       "'Making symlink for fastq file 12_S12_R1_001_Run230322 (89/198)'"
      ]
     },
     "metadata": {},
     "output_type": "display_data"
    },
    {
     "data": {
      "text/plain": [
       "'Making symlink for fastq file 12_S12_R2_001_Run230322 (90/198)'"
      ]
     },
     "metadata": {},
     "output_type": "display_data"
    },
    {
     "data": {
      "text/plain": [
       "'Making symlink for fastq file 13_S13_R1_001_Run230322 (91/198)'"
      ]
     },
     "metadata": {},
     "output_type": "display_data"
    },
    {
     "data": {
      "text/plain": [
       "'Making symlink for fastq file 13_S13_R2_001_Run230322 (92/198)'"
      ]
     },
     "metadata": {},
     "output_type": "display_data"
    },
    {
     "data": {
      "text/plain": [
       "'Making symlink for fastq file 14_S14_R1_001_Run230322 (93/198)'"
      ]
     },
     "metadata": {},
     "output_type": "display_data"
    },
    {
     "data": {
      "text/plain": [
       "'Making symlink for fastq file 14_S14_R2_001_Run230322 (94/198)'"
      ]
     },
     "metadata": {},
     "output_type": "display_data"
    },
    {
     "data": {
      "text/plain": [
       "'Making symlink for fastq file 15_S15_R1_001_Run230322 (95/198)'"
      ]
     },
     "metadata": {},
     "output_type": "display_data"
    },
    {
     "data": {
      "text/plain": [
       "'Making symlink for fastq file 15_S15_R2_001_Run230322 (96/198)'"
      ]
     },
     "metadata": {},
     "output_type": "display_data"
    },
    {
     "data": {
      "text/plain": [
       "'Making symlink for fastq file 16_S16_R1_001_Run230322 (97/198)'"
      ]
     },
     "metadata": {},
     "output_type": "display_data"
    },
    {
     "data": {
      "text/plain": [
       "'Making symlink for fastq file 16_S16_R2_001_Run230322 (98/198)'"
      ]
     },
     "metadata": {},
     "output_type": "display_data"
    },
    {
     "data": {
      "text/plain": [
       "'Making symlink for fastq file 17_S17_R1_001_Run230322 (99/198)'"
      ]
     },
     "metadata": {},
     "output_type": "display_data"
    },
    {
     "data": {
      "text/plain": [
       "'Making symlink for fastq file 17_S17_R2_001_Run230322 (100/198)'"
      ]
     },
     "metadata": {},
     "output_type": "display_data"
    },
    {
     "data": {
      "text/plain": [
       "'Making symlink for fastq file 18_S18_R1_001_Run230322 (101/198)'"
      ]
     },
     "metadata": {},
     "output_type": "display_data"
    },
    {
     "data": {
      "text/plain": [
       "'Making symlink for fastq file 18_S18_R2_001_Run230322 (102/198)'"
      ]
     },
     "metadata": {},
     "output_type": "display_data"
    },
    {
     "data": {
      "text/plain": [
       "'Making symlink for fastq file 19_S19_R1_001_Run230322 (103/198)'"
      ]
     },
     "metadata": {},
     "output_type": "display_data"
    },
    {
     "data": {
      "text/plain": [
       "'Making symlink for fastq file 19_S19_R2_001_Run230322 (104/198)'"
      ]
     },
     "metadata": {},
     "output_type": "display_data"
    },
    {
     "data": {
      "text/plain": [
       "'Making symlink for fastq file 20_S20_R1_001_Run230322 (105/198)'"
      ]
     },
     "metadata": {},
     "output_type": "display_data"
    },
    {
     "data": {
      "text/plain": [
       "'Making symlink for fastq file 20_S20_R2_001_Run230322 (106/198)'"
      ]
     },
     "metadata": {},
     "output_type": "display_data"
    },
    {
     "data": {
      "text/plain": [
       "'Making symlink for fastq file 21_S21_R1_001_Run230322 (107/198)'"
      ]
     },
     "metadata": {},
     "output_type": "display_data"
    },
    {
     "data": {
      "text/plain": [
       "'Making symlink for fastq file 21_S21_R2_001_Run230322 (108/198)'"
      ]
     },
     "metadata": {},
     "output_type": "display_data"
    },
    {
     "data": {
      "text/plain": [
       "'Making symlink for fastq file 22_S22_R1_001_Run230322 (109/198)'"
      ]
     },
     "metadata": {},
     "output_type": "display_data"
    },
    {
     "data": {
      "text/plain": [
       "'Making symlink for fastq file 22_S22_R2_001_Run230322 (110/198)'"
      ]
     },
     "metadata": {},
     "output_type": "display_data"
    },
    {
     "data": {
      "text/plain": [
       "'Making symlink for fastq file 23_S23_R1_001_Run230322 (111/198)'"
      ]
     },
     "metadata": {},
     "output_type": "display_data"
    },
    {
     "data": {
      "text/plain": [
       "'Making symlink for fastq file 23_S23_R2_001_Run230322 (112/198)'"
      ]
     },
     "metadata": {},
     "output_type": "display_data"
    },
    {
     "data": {
      "text/plain": [
       "'Making symlink for fastq file 24_S24_R1_001_Run230322 (113/198)'"
      ]
     },
     "metadata": {},
     "output_type": "display_data"
    },
    {
     "data": {
      "text/plain": [
       "'Making symlink for fastq file 24_S24_R2_001_Run230322 (114/198)'"
      ]
     },
     "metadata": {},
     "output_type": "display_data"
    },
    {
     "data": {
      "text/plain": [
       "'Making symlink for fastq file 25_S25_R1_001_Run230322 (115/198)'"
      ]
     },
     "metadata": {},
     "output_type": "display_data"
    },
    {
     "data": {
      "text/plain": [
       "'Making symlink for fastq file 25_S25_R2_001_Run230322 (116/198)'"
      ]
     },
     "metadata": {},
     "output_type": "display_data"
    },
    {
     "data": {
      "text/plain": [
       "'Making symlink for fastq file 26_S26_R1_001_Run230322 (117/198)'"
      ]
     },
     "metadata": {},
     "output_type": "display_data"
    },
    {
     "data": {
      "text/plain": [
       "'Making symlink for fastq file 26_S26_R2_001_Run230322 (118/198)'"
      ]
     },
     "metadata": {},
     "output_type": "display_data"
    },
    {
     "data": {
      "text/plain": [
       "'Making symlink for fastq file 27_S27_R1_001_Run230322 (119/198)'"
      ]
     },
     "metadata": {},
     "output_type": "display_data"
    },
    {
     "data": {
      "text/plain": [
       "'Making symlink for fastq file 27_S27_R2_001_Run230322 (120/198)'"
      ]
     },
     "metadata": {},
     "output_type": "display_data"
    },
    {
     "data": {
      "text/plain": [
       "'Making symlink for fastq file 28_S28_R1_001_Run230322 (121/198)'"
      ]
     },
     "metadata": {},
     "output_type": "display_data"
    },
    {
     "data": {
      "text/plain": [
       "'Making symlink for fastq file 28_S28_R2_001_Run230322 (122/198)'"
      ]
     },
     "metadata": {},
     "output_type": "display_data"
    },
    {
     "data": {
      "text/plain": [
       "'Making symlink for fastq file 29_S29_R1_001_Run230322 (123/198)'"
      ]
     },
     "metadata": {},
     "output_type": "display_data"
    },
    {
     "data": {
      "text/plain": [
       "'Making symlink for fastq file 29_S29_R2_001_Run230322 (124/198)'"
      ]
     },
     "metadata": {},
     "output_type": "display_data"
    },
    {
     "data": {
      "text/plain": [
       "'Making symlink for fastq file 30_S30_R1_001_Run230322 (125/198)'"
      ]
     },
     "metadata": {},
     "output_type": "display_data"
    },
    {
     "data": {
      "text/plain": [
       "'Making symlink for fastq file 30_S30_R2_001_Run230322 (126/198)'"
      ]
     },
     "metadata": {},
     "output_type": "display_data"
    },
    {
     "data": {
      "text/plain": [
       "'Making symlink for fastq file 31_S31_R1_001_Run230322 (127/198)'"
      ]
     },
     "metadata": {},
     "output_type": "display_data"
    },
    {
     "data": {
      "text/plain": [
       "'Making symlink for fastq file 31_S31_R2_001_Run230322 (128/198)'"
      ]
     },
     "metadata": {},
     "output_type": "display_data"
    },
    {
     "data": {
      "text/plain": [
       "'Making symlink for fastq file 32_S32_R1_001_Run230322 (129/198)'"
      ]
     },
     "metadata": {},
     "output_type": "display_data"
    },
    {
     "data": {
      "text/plain": [
       "'Making symlink for fastq file 32_S32_R2_001_Run230322 (130/198)'"
      ]
     },
     "metadata": {},
     "output_type": "display_data"
    },
    {
     "data": {
      "text/plain": [
       "'Making symlink for fastq file 33_S33_R1_001_Run230322 (131/198)'"
      ]
     },
     "metadata": {},
     "output_type": "display_data"
    },
    {
     "data": {
      "text/plain": [
       "'Making symlink for fastq file 33_S33_R2_001_Run230322 (132/198)'"
      ]
     },
     "metadata": {},
     "output_type": "display_data"
    },
    {
     "data": {
      "text/plain": [
       "'Making symlink for fastq file 1_S1_R1_001_Run230323 (133/198)'"
      ]
     },
     "metadata": {},
     "output_type": "display_data"
    },
    {
     "data": {
      "text/plain": [
       "'Making symlink for fastq file 1_S1_R2_001_Run230323 (134/198)'"
      ]
     },
     "metadata": {},
     "output_type": "display_data"
    },
    {
     "data": {
      "text/plain": [
       "'Making symlink for fastq file 2_S2_R1_001_Run230323 (135/198)'"
      ]
     },
     "metadata": {},
     "output_type": "display_data"
    },
    {
     "data": {
      "text/plain": [
       "'Making symlink for fastq file 2_S2_R2_001_Run230323 (136/198)'"
      ]
     },
     "metadata": {},
     "output_type": "display_data"
    },
    {
     "data": {
      "text/plain": [
       "'Making symlink for fastq file 3_S3_R1_001_Run230323 (137/198)'"
      ]
     },
     "metadata": {},
     "output_type": "display_data"
    },
    {
     "data": {
      "text/plain": [
       "'Making symlink for fastq file 3_S3_R2_001_Run230323 (138/198)'"
      ]
     },
     "metadata": {},
     "output_type": "display_data"
    },
    {
     "data": {
      "text/plain": [
       "'Making symlink for fastq file 4_S4_R1_001_Run230323 (139/198)'"
      ]
     },
     "metadata": {},
     "output_type": "display_data"
    },
    {
     "data": {
      "text/plain": [
       "'Making symlink for fastq file 4_S4_R2_001_Run230323 (140/198)'"
      ]
     },
     "metadata": {},
     "output_type": "display_data"
    },
    {
     "data": {
      "text/plain": [
       "'Making symlink for fastq file 5_S5_R1_001_Run230323 (141/198)'"
      ]
     },
     "metadata": {},
     "output_type": "display_data"
    },
    {
     "data": {
      "text/plain": [
       "'Making symlink for fastq file 5_S5_R2_001_Run230323 (142/198)'"
      ]
     },
     "metadata": {},
     "output_type": "display_data"
    },
    {
     "data": {
      "text/plain": [
       "'Making symlink for fastq file 6_S6_R1_001_Run230323 (143/198)'"
      ]
     },
     "metadata": {},
     "output_type": "display_data"
    },
    {
     "data": {
      "text/plain": [
       "'Making symlink for fastq file 6_S6_R2_001_Run230323 (144/198)'"
      ]
     },
     "metadata": {},
     "output_type": "display_data"
    },
    {
     "data": {
      "text/plain": [
       "'Making symlink for fastq file 7_S7_R1_001_Run230323 (145/198)'"
      ]
     },
     "metadata": {},
     "output_type": "display_data"
    },
    {
     "data": {
      "text/plain": [
       "'Making symlink for fastq file 7_S7_R2_001_Run230323 (146/198)'"
      ]
     },
     "metadata": {},
     "output_type": "display_data"
    },
    {
     "data": {
      "text/plain": [
       "'Making symlink for fastq file 8_S8_R1_001_Run230323 (147/198)'"
      ]
     },
     "metadata": {},
     "output_type": "display_data"
    },
    {
     "data": {
      "text/plain": [
       "'Making symlink for fastq file 8_S8_R2_001_Run230323 (148/198)'"
      ]
     },
     "metadata": {},
     "output_type": "display_data"
    },
    {
     "data": {
      "text/plain": [
       "'Making symlink for fastq file 9_S9_R1_001_Run230323 (149/198)'"
      ]
     },
     "metadata": {},
     "output_type": "display_data"
    },
    {
     "data": {
      "text/plain": [
       "'Making symlink for fastq file 9_S9_R2_001_Run230323 (150/198)'"
      ]
     },
     "metadata": {},
     "output_type": "display_data"
    },
    {
     "data": {
      "text/plain": [
       "'Making symlink for fastq file 10_S10_R1_001_Run230323 (151/198)'"
      ]
     },
     "metadata": {},
     "output_type": "display_data"
    },
    {
     "data": {
      "text/plain": [
       "'Making symlink for fastq file 10_S10_R2_001_Run230323 (152/198)'"
      ]
     },
     "metadata": {},
     "output_type": "display_data"
    },
    {
     "data": {
      "text/plain": [
       "'Making symlink for fastq file 11_S11_R1_001_Run230323 (153/198)'"
      ]
     },
     "metadata": {},
     "output_type": "display_data"
    },
    {
     "data": {
      "text/plain": [
       "'Making symlink for fastq file 11_S11_R2_001_Run230323 (154/198)'"
      ]
     },
     "metadata": {},
     "output_type": "display_data"
    },
    {
     "data": {
      "text/plain": [
       "'Making symlink for fastq file 12_S12_R1_001_Run230323 (155/198)'"
      ]
     },
     "metadata": {},
     "output_type": "display_data"
    },
    {
     "data": {
      "text/plain": [
       "'Making symlink for fastq file 12_S12_R2_001_Run230323 (156/198)'"
      ]
     },
     "metadata": {},
     "output_type": "display_data"
    },
    {
     "data": {
      "text/plain": [
       "'Making symlink for fastq file 13_S13_R1_001_Run230323 (157/198)'"
      ]
     },
     "metadata": {},
     "output_type": "display_data"
    },
    {
     "data": {
      "text/plain": [
       "'Making symlink for fastq file 13_S13_R2_001_Run230323 (158/198)'"
      ]
     },
     "metadata": {},
     "output_type": "display_data"
    },
    {
     "data": {
      "text/plain": [
       "'Making symlink for fastq file 14_S14_R1_001_Run230323 (159/198)'"
      ]
     },
     "metadata": {},
     "output_type": "display_data"
    },
    {
     "data": {
      "text/plain": [
       "'Making symlink for fastq file 14_S14_R2_001_Run230323 (160/198)'"
      ]
     },
     "metadata": {},
     "output_type": "display_data"
    },
    {
     "data": {
      "text/plain": [
       "'Making symlink for fastq file 15_S15_R1_001_Run230323 (161/198)'"
      ]
     },
     "metadata": {},
     "output_type": "display_data"
    },
    {
     "data": {
      "text/plain": [
       "'Making symlink for fastq file 15_S15_R2_001_Run230323 (162/198)'"
      ]
     },
     "metadata": {},
     "output_type": "display_data"
    },
    {
     "data": {
      "text/plain": [
       "'Making symlink for fastq file 16_S16_R1_001_Run230323 (163/198)'"
      ]
     },
     "metadata": {},
     "output_type": "display_data"
    },
    {
     "data": {
      "text/plain": [
       "'Making symlink for fastq file 16_S16_R2_001_Run230323 (164/198)'"
      ]
     },
     "metadata": {},
     "output_type": "display_data"
    },
    {
     "data": {
      "text/plain": [
       "'Making symlink for fastq file 17_S17_R1_001_Run230323 (165/198)'"
      ]
     },
     "metadata": {},
     "output_type": "display_data"
    },
    {
     "data": {
      "text/plain": [
       "'Making symlink for fastq file 17_S17_R2_001_Run230323 (166/198)'"
      ]
     },
     "metadata": {},
     "output_type": "display_data"
    },
    {
     "data": {
      "text/plain": [
       "'Making symlink for fastq file 18_S18_R1_001_Run230323 (167/198)'"
      ]
     },
     "metadata": {},
     "output_type": "display_data"
    },
    {
     "data": {
      "text/plain": [
       "'Making symlink for fastq file 18_S18_R2_001_Run230323 (168/198)'"
      ]
     },
     "metadata": {},
     "output_type": "display_data"
    },
    {
     "data": {
      "text/plain": [
       "'Making symlink for fastq file 19_S19_R1_001_Run230323 (169/198)'"
      ]
     },
     "metadata": {},
     "output_type": "display_data"
    },
    {
     "data": {
      "text/plain": [
       "'Making symlink for fastq file 19_S19_R2_001_Run230323 (170/198)'"
      ]
     },
     "metadata": {},
     "output_type": "display_data"
    },
    {
     "data": {
      "text/plain": [
       "'Making symlink for fastq file 20_S20_R1_001_Run230323 (171/198)'"
      ]
     },
     "metadata": {},
     "output_type": "display_data"
    },
    {
     "data": {
      "text/plain": [
       "'Making symlink for fastq file 20_S20_R2_001_Run230323 (172/198)'"
      ]
     },
     "metadata": {},
     "output_type": "display_data"
    },
    {
     "data": {
      "text/plain": [
       "'Making symlink for fastq file 21_S21_R1_001_Run230323 (173/198)'"
      ]
     },
     "metadata": {},
     "output_type": "display_data"
    },
    {
     "data": {
      "text/plain": [
       "'Making symlink for fastq file 21_S21_R2_001_Run230323 (174/198)'"
      ]
     },
     "metadata": {},
     "output_type": "display_data"
    },
    {
     "data": {
      "text/plain": [
       "'Making symlink for fastq file 22_S22_R1_001_Run230323 (175/198)'"
      ]
     },
     "metadata": {},
     "output_type": "display_data"
    },
    {
     "data": {
      "text/plain": [
       "'Making symlink for fastq file 22_S22_R2_001_Run230323 (176/198)'"
      ]
     },
     "metadata": {},
     "output_type": "display_data"
    },
    {
     "data": {
      "text/plain": [
       "'Making symlink for fastq file 23_S23_R1_001_Run230323 (177/198)'"
      ]
     },
     "metadata": {},
     "output_type": "display_data"
    },
    {
     "data": {
      "text/plain": [
       "'Making symlink for fastq file 23_S23_R2_001_Run230323 (178/198)'"
      ]
     },
     "metadata": {},
     "output_type": "display_data"
    },
    {
     "data": {
      "text/plain": [
       "'Making symlink for fastq file 24_S24_R1_001_Run230323 (179/198)'"
      ]
     },
     "metadata": {},
     "output_type": "display_data"
    },
    {
     "data": {
      "text/plain": [
       "'Making symlink for fastq file 24_S24_R2_001_Run230323 (180/198)'"
      ]
     },
     "metadata": {},
     "output_type": "display_data"
    },
    {
     "data": {
      "text/plain": [
       "'Making symlink for fastq file 25_S25_R1_001_Run230323 (181/198)'"
      ]
     },
     "metadata": {},
     "output_type": "display_data"
    },
    {
     "data": {
      "text/plain": [
       "'Making symlink for fastq file 25_S25_R2_001_Run230323 (182/198)'"
      ]
     },
     "metadata": {},
     "output_type": "display_data"
    },
    {
     "data": {
      "text/plain": [
       "'Making symlink for fastq file 26_S26_R1_001_Run230323 (183/198)'"
      ]
     },
     "metadata": {},
     "output_type": "display_data"
    },
    {
     "data": {
      "text/plain": [
       "'Making symlink for fastq file 26_S26_R2_001_Run230323 (184/198)'"
      ]
     },
     "metadata": {},
     "output_type": "display_data"
    },
    {
     "data": {
      "text/plain": [
       "'Making symlink for fastq file 27_S27_R1_001_Run230323 (185/198)'"
      ]
     },
     "metadata": {},
     "output_type": "display_data"
    },
    {
     "data": {
      "text/plain": [
       "'Making symlink for fastq file 27_S27_R2_001_Run230323 (186/198)'"
      ]
     },
     "metadata": {},
     "output_type": "display_data"
    },
    {
     "data": {
      "text/plain": [
       "'Making symlink for fastq file 28_S28_R1_001_Run230323 (187/198)'"
      ]
     },
     "metadata": {},
     "output_type": "display_data"
    },
    {
     "data": {
      "text/plain": [
       "'Making symlink for fastq file 28_S28_R2_001_Run230323 (188/198)'"
      ]
     },
     "metadata": {},
     "output_type": "display_data"
    },
    {
     "data": {
      "text/plain": [
       "'Making symlink for fastq file 29_S29_R1_001_Run230323 (189/198)'"
      ]
     },
     "metadata": {},
     "output_type": "display_data"
    },
    {
     "data": {
      "text/plain": [
       "'Making symlink for fastq file 29_S29_R2_001_Run230323 (190/198)'"
      ]
     },
     "metadata": {},
     "output_type": "display_data"
    },
    {
     "data": {
      "text/plain": [
       "'Making symlink for fastq file 30_S30_R1_001_Run230323 (191/198)'"
      ]
     },
     "metadata": {},
     "output_type": "display_data"
    },
    {
     "data": {
      "text/plain": [
       "'Making symlink for fastq file 30_S30_R2_001_Run230323 (192/198)'"
      ]
     },
     "metadata": {},
     "output_type": "display_data"
    },
    {
     "data": {
      "text/plain": [
       "'Making symlink for fastq file 31_S31_R1_001_Run230323 (193/198)'"
      ]
     },
     "metadata": {},
     "output_type": "display_data"
    },
    {
     "data": {
      "text/plain": [
       "'Making symlink for fastq file 31_S31_R2_001_Run230323 (194/198)'"
      ]
     },
     "metadata": {},
     "output_type": "display_data"
    },
    {
     "data": {
      "text/plain": [
       "'Making symlink for fastq file 32_S32_R1_001_Run230323 (195/198)'"
      ]
     },
     "metadata": {},
     "output_type": "display_data"
    },
    {
     "data": {
      "text/plain": [
       "'Making symlink for fastq file 32_S32_R2_001_Run230323 (196/198)'"
      ]
     },
     "metadata": {},
     "output_type": "display_data"
    },
    {
     "data": {
      "text/plain": [
       "'Making symlink for fastq file 33_S33_R1_001_Run230323 (197/198)'"
      ]
     },
     "metadata": {},
     "output_type": "display_data"
    },
    {
     "data": {
      "text/plain": [
       "'Making symlink for fastq file 33_S33_R2_001_Run230323 (198/198)'"
      ]
     },
     "metadata": {},
     "output_type": "display_data"
    },
    {
     "data": {
      "text/html": [
       "<div>\n",
       "<style scoped>\n",
       "    .dataframe tbody tr th:only-of-type {\n",
       "        vertical-align: middle;\n",
       "    }\n",
       "\n",
       "    .dataframe tbody tr th {\n",
       "        vertical-align: top;\n",
       "    }\n",
       "\n",
       "    .dataframe thead th {\n",
       "        text-align: right;\n",
       "    }\n",
       "</style>\n",
       "<table border=\"1\" class=\"dataframe\">\n",
       "  <thead>\n",
       "    <tr style=\"text-align: right;\">\n",
       "      <th></th>\n",
       "      <th>original_fastq_path</th>\n",
       "      <th>symlink_fastq_path</th>\n",
       "      <th>final_file_name</th>\n",
       "      <th>md5_checksum</th>\n",
       "    </tr>\n",
       "    <tr>\n",
       "      <th>sample_id</th>\n",
       "      <th></th>\n",
       "      <th></th>\n",
       "      <th></th>\n",
       "      <th></th>\n",
       "    </tr>\n",
       "  </thead>\n",
       "  <tbody>\n",
       "    <tr>\n",
       "      <th>1_S1_R1_001_Run230316</th>\n",
       "      <td>/Volumes/kueck/FASTQ/CellLines/RNA-Seq/230316_...</td>\n",
       "      <td>/Volumes/kueck/ovarian_cancer_cisplatin_respon...</td>\n",
       "      <td>1_S1_R1_001_Run230316.fastq.gz</td>\n",
       "      <td>19cee84a6a3598930e2e6befdf203e0f</td>\n",
       "    </tr>\n",
       "    <tr>\n",
       "      <th>1_S1_R2_001_Run230316</th>\n",
       "      <td>/Volumes/kueck/FASTQ/CellLines/RNA-Seq/230316_...</td>\n",
       "      <td>/Volumes/kueck/ovarian_cancer_cisplatin_respon...</td>\n",
       "      <td>1_S1_R2_001_Run230316.fastq.gz</td>\n",
       "      <td>a41a73120d75d1a5c4696488dc56af78</td>\n",
       "    </tr>\n",
       "    <tr>\n",
       "      <th>2_S2_R1_001_Run230316</th>\n",
       "      <td>/Volumes/kueck/FASTQ/CellLines/RNA-Seq/230316_...</td>\n",
       "      <td>/Volumes/kueck/ovarian_cancer_cisplatin_respon...</td>\n",
       "      <td>2_S2_R1_001_Run230316.fastq.gz</td>\n",
       "      <td>0613d63ebd5346ef57124d458a5e9f7b</td>\n",
       "    </tr>\n",
       "    <tr>\n",
       "      <th>2_S2_R2_001_Run230316</th>\n",
       "      <td>/Volumes/kueck/FASTQ/CellLines/RNA-Seq/230316_...</td>\n",
       "      <td>/Volumes/kueck/ovarian_cancer_cisplatin_respon...</td>\n",
       "      <td>2_S2_R2_001_Run230316.fastq.gz</td>\n",
       "      <td>46e40cbfdf13d025863609aab40e63cd</td>\n",
       "    </tr>\n",
       "    <tr>\n",
       "      <th>3_S3_R1_001_Run230316</th>\n",
       "      <td>/Volumes/kueck/FASTQ/CellLines/RNA-Seq/230316_...</td>\n",
       "      <td>/Volumes/kueck/ovarian_cancer_cisplatin_respon...</td>\n",
       "      <td>3_S3_R1_001_Run230316.fastq.gz</td>\n",
       "      <td>e28b40d675a63b1837587ff28dc2a618</td>\n",
       "    </tr>\n",
       "    <tr>\n",
       "      <th>...</th>\n",
       "      <td>...</td>\n",
       "      <td>...</td>\n",
       "      <td>...</td>\n",
       "      <td>...</td>\n",
       "    </tr>\n",
       "    <tr>\n",
       "      <th>31_S31_R2_001_Run230323</th>\n",
       "      <td>/Volumes/kueck/FASTQ/CellLines/RNA-Seq/230323_...</td>\n",
       "      <td>/Volumes/kueck/ovarian_cancer_cisplatin_respon...</td>\n",
       "      <td>31_S31_R2_001_Run230323.fastq.gz</td>\n",
       "      <td>267e934f226bb6bc9926fdcd69a8b063</td>\n",
       "    </tr>\n",
       "    <tr>\n",
       "      <th>32_S32_R1_001_Run230323</th>\n",
       "      <td>/Volumes/kueck/FASTQ/CellLines/RNA-Seq/230323_...</td>\n",
       "      <td>/Volumes/kueck/ovarian_cancer_cisplatin_respon...</td>\n",
       "      <td>32_S32_R1_001_Run230323.fastq.gz</td>\n",
       "      <td>c8634cdab2082b4198d58ccc0057f77b</td>\n",
       "    </tr>\n",
       "    <tr>\n",
       "      <th>32_S32_R2_001_Run230323</th>\n",
       "      <td>/Volumes/kueck/FASTQ/CellLines/RNA-Seq/230323_...</td>\n",
       "      <td>/Volumes/kueck/ovarian_cancer_cisplatin_respon...</td>\n",
       "      <td>32_S32_R2_001_Run230323.fastq.gz</td>\n",
       "      <td>b332e910a17b49a3f1599ee04b4d2743</td>\n",
       "    </tr>\n",
       "    <tr>\n",
       "      <th>33_S33_R1_001_Run230323</th>\n",
       "      <td>/Volumes/kueck/FASTQ/CellLines/RNA-Seq/230323_...</td>\n",
       "      <td>/Volumes/kueck/ovarian_cancer_cisplatin_respon...</td>\n",
       "      <td>33_S33_R1_001_Run230323.fastq.gz</td>\n",
       "      <td>4214a83565ed2095db0cf9a49fec95af</td>\n",
       "    </tr>\n",
       "    <tr>\n",
       "      <th>33_S33_R2_001_Run230323</th>\n",
       "      <td>/Volumes/kueck/FASTQ/CellLines/RNA-Seq/230323_...</td>\n",
       "      <td>/Volumes/kueck/ovarian_cancer_cisplatin_respon...</td>\n",
       "      <td>33_S33_R2_001_Run230323.fastq.gz</td>\n",
       "      <td>d63eaf377ef182909d4a4394095ef673</td>\n",
       "    </tr>\n",
       "  </tbody>\n",
       "</table>\n",
       "<p>198 rows × 4 columns</p>\n",
       "</div>"
      ],
      "text/plain": [
       "                                                       original_fastq_path  \\\n",
       "sample_id                                                                    \n",
       "1_S1_R1_001_Run230316    /Volumes/kueck/FASTQ/CellLines/RNA-Seq/230316_...   \n",
       "1_S1_R2_001_Run230316    /Volumes/kueck/FASTQ/CellLines/RNA-Seq/230316_...   \n",
       "2_S2_R1_001_Run230316    /Volumes/kueck/FASTQ/CellLines/RNA-Seq/230316_...   \n",
       "2_S2_R2_001_Run230316    /Volumes/kueck/FASTQ/CellLines/RNA-Seq/230316_...   \n",
       "3_S3_R1_001_Run230316    /Volumes/kueck/FASTQ/CellLines/RNA-Seq/230316_...   \n",
       "...                                                                    ...   \n",
       "31_S31_R2_001_Run230323  /Volumes/kueck/FASTQ/CellLines/RNA-Seq/230323_...   \n",
       "32_S32_R1_001_Run230323  /Volumes/kueck/FASTQ/CellLines/RNA-Seq/230323_...   \n",
       "32_S32_R2_001_Run230323  /Volumes/kueck/FASTQ/CellLines/RNA-Seq/230323_...   \n",
       "33_S33_R1_001_Run230323  /Volumes/kueck/FASTQ/CellLines/RNA-Seq/230323_...   \n",
       "33_S33_R2_001_Run230323  /Volumes/kueck/FASTQ/CellLines/RNA-Seq/230323_...   \n",
       "\n",
       "                                                        symlink_fastq_path  \\\n",
       "sample_id                                                                    \n",
       "1_S1_R1_001_Run230316    /Volumes/kueck/ovarian_cancer_cisplatin_respon...   \n",
       "1_S1_R2_001_Run230316    /Volumes/kueck/ovarian_cancer_cisplatin_respon...   \n",
       "2_S2_R1_001_Run230316    /Volumes/kueck/ovarian_cancer_cisplatin_respon...   \n",
       "2_S2_R2_001_Run230316    /Volumes/kueck/ovarian_cancer_cisplatin_respon...   \n",
       "3_S3_R1_001_Run230316    /Volumes/kueck/ovarian_cancer_cisplatin_respon...   \n",
       "...                                                                    ...   \n",
       "31_S31_R2_001_Run230323  /Volumes/kueck/ovarian_cancer_cisplatin_respon...   \n",
       "32_S32_R1_001_Run230323  /Volumes/kueck/ovarian_cancer_cisplatin_respon...   \n",
       "32_S32_R2_001_Run230323  /Volumes/kueck/ovarian_cancer_cisplatin_respon...   \n",
       "33_S33_R1_001_Run230323  /Volumes/kueck/ovarian_cancer_cisplatin_respon...   \n",
       "33_S33_R2_001_Run230323  /Volumes/kueck/ovarian_cancer_cisplatin_respon...   \n",
       "\n",
       "                                          final_file_name  \\\n",
       "sample_id                                                   \n",
       "1_S1_R1_001_Run230316      1_S1_R1_001_Run230316.fastq.gz   \n",
       "1_S1_R2_001_Run230316      1_S1_R2_001_Run230316.fastq.gz   \n",
       "2_S2_R1_001_Run230316      2_S2_R1_001_Run230316.fastq.gz   \n",
       "2_S2_R2_001_Run230316      2_S2_R2_001_Run230316.fastq.gz   \n",
       "3_S3_R1_001_Run230316      3_S3_R1_001_Run230316.fastq.gz   \n",
       "...                                                   ...   \n",
       "31_S31_R2_001_Run230323  31_S31_R2_001_Run230323.fastq.gz   \n",
       "32_S32_R1_001_Run230323  32_S32_R1_001_Run230323.fastq.gz   \n",
       "32_S32_R2_001_Run230323  32_S32_R2_001_Run230323.fastq.gz   \n",
       "33_S33_R1_001_Run230323  33_S33_R1_001_Run230323.fastq.gz   \n",
       "33_S33_R2_001_Run230323  33_S33_R2_001_Run230323.fastq.gz   \n",
       "\n",
       "                                             md5_checksum  \n",
       "sample_id                                                  \n",
       "1_S1_R1_001_Run230316    19cee84a6a3598930e2e6befdf203e0f  \n",
       "1_S1_R2_001_Run230316    a41a73120d75d1a5c4696488dc56af78  \n",
       "2_S2_R1_001_Run230316    0613d63ebd5346ef57124d458a5e9f7b  \n",
       "2_S2_R2_001_Run230316    46e40cbfdf13d025863609aab40e63cd  \n",
       "3_S3_R1_001_Run230316    e28b40d675a63b1837587ff28dc2a618  \n",
       "...                                                   ...  \n",
       "31_S31_R2_001_Run230323  267e934f226bb6bc9926fdcd69a8b063  \n",
       "32_S32_R1_001_Run230323  c8634cdab2082b4198d58ccc0057f77b  \n",
       "32_S32_R2_001_Run230323  b332e910a17b49a3f1599ee04b4d2743  \n",
       "33_S33_R1_001_Run230323  4214a83565ed2095db0cf9a49fec95af  \n",
       "33_S33_R2_001_Run230323  d63eaf377ef182909d4a4394095ef673  \n",
       "\n",
       "[198 rows x 4 columns]"
      ]
     },
     "metadata": {},
     "output_type": "display_data"
    }
   ],
   "source": [
    "i = 1\n",
    "for sample_id, row in sample_info.iterrows():\n",
    "    display(f\"Making symlink for fastq file {sample_id} ({i}/{len(sample_info)})\")\n",
    "\n",
    "    # Create symbolic link\n",
    "    sample_original_path = row[\"original_fastq_path\"]\n",
    "    final_file_name = f\"{sample_id}.fastq.gz\"\n",
    "    symlink_fastq_path = f\"{final_fastq_folder}/{sample_id}.fastq.gz\"\n",
    "    os.symlink(sample_original_path, symlink_fastq_path)\n",
    "\n",
    "    # Update sample info\n",
    "    sample_info.at[sample_id, \"symlink_fastq_path\"] = symlink_fastq_path\n",
    "    sample_info.at[sample_id, \"final_file_name\"] = final_file_name\n",
    "\n",
    "    i += 1\n",
    "\n",
    "display(sample_info)"
   ]
  },
  {
   "cell_type": "code",
   "execution_count": null,
   "metadata": {},
   "outputs": [],
   "source": [
    "# Code for deep copy:\n",
    "\n",
    "# i = 1\n",
    "# for sample_id, row in sample_info.iterrows():\n",
    "#     display(f\"Copying fastq file {sample_id} ({i}/{len(sample_info)})\")\n",
    "#     sample_original_path = row[\"original_fastq_path\"]\n",
    "#     copied_fastq_path = f\"{final_fastq_folder}/{sample_id}.fastq.gz\"\n",
    "\n",
    "#     # Copy the fastq file\n",
    "#     run_command(f\"cp {sample_original_path} {copied_fastq_path}\")\n",
    "\n",
    "#     # Compute md5 checksum on copied file\n",
    "#     display(f\"Computing MD5 for file {sample_id} ({i}/{len(sample_info)})\")\n",
    "#     copied_md5_hash = compute_md5_checksum(copied_fastq_path)\n",
    "\n",
    "#     # Check md5 checksum matches\n",
    "#     assert (copied_md5_checksum == row[\"md5_checksum\"], f\"MD5 checksums do not match for {sample_id}\")\n",
    "\n",
    "#     # Update sample info\n",
    "#     sample_info.at[sample_id, \"copied_fastq_path\"] = copied_fastq_path\n",
    "\n",
    "#     i += 1\n",
    "#     break\n",
    "\n",
    "# display(sample_info)"
   ]
  },
  {
   "cell_type": "markdown",
   "metadata": {},
   "source": [
    "## Save sample info\n",
    "\n",
    "This can then be copied into the GEO metadata spreadsheet"
   ]
  },
  {
   "cell_type": "code",
   "execution_count": 10,
   "metadata": {},
   "outputs": [
    {
     "data": {
      "text/html": [
       "<div>\n",
       "<style scoped>\n",
       "    .dataframe tbody tr th:only-of-type {\n",
       "        vertical-align: middle;\n",
       "    }\n",
       "\n",
       "    .dataframe tbody tr th {\n",
       "        vertical-align: top;\n",
       "    }\n",
       "\n",
       "    .dataframe thead th {\n",
       "        text-align: right;\n",
       "    }\n",
       "</style>\n",
       "<table border=\"1\" class=\"dataframe\">\n",
       "  <thead>\n",
       "    <tr style=\"text-align: right;\">\n",
       "      <th></th>\n",
       "      <th>original_fastq_path</th>\n",
       "      <th>symlink_fastq_path</th>\n",
       "      <th>final_file_name</th>\n",
       "      <th>md5_checksum</th>\n",
       "    </tr>\n",
       "    <tr>\n",
       "      <th>sample_id</th>\n",
       "      <th></th>\n",
       "      <th></th>\n",
       "      <th></th>\n",
       "      <th></th>\n",
       "    </tr>\n",
       "  </thead>\n",
       "  <tbody>\n",
       "    <tr>\n",
       "      <th>1_S1_R1_001_Run230316</th>\n",
       "      <td>/Volumes/kueck/FASTQ/CellLines/RNA-Seq/230316_...</td>\n",
       "      <td>/Volumes/kueck/ovarian_cancer_cisplatin_respon...</td>\n",
       "      <td>1_S1_R1_001_Run230316.fastq.gz</td>\n",
       "      <td>19cee84a6a3598930e2e6befdf203e0f</td>\n",
       "    </tr>\n",
       "    <tr>\n",
       "      <th>1_S1_R2_001_Run230316</th>\n",
       "      <td>/Volumes/kueck/FASTQ/CellLines/RNA-Seq/230316_...</td>\n",
       "      <td>/Volumes/kueck/ovarian_cancer_cisplatin_respon...</td>\n",
       "      <td>1_S1_R2_001_Run230316.fastq.gz</td>\n",
       "      <td>a41a73120d75d1a5c4696488dc56af78</td>\n",
       "    </tr>\n",
       "    <tr>\n",
       "      <th>2_S2_R1_001_Run230316</th>\n",
       "      <td>/Volumes/kueck/FASTQ/CellLines/RNA-Seq/230316_...</td>\n",
       "      <td>/Volumes/kueck/ovarian_cancer_cisplatin_respon...</td>\n",
       "      <td>2_S2_R1_001_Run230316.fastq.gz</td>\n",
       "      <td>0613d63ebd5346ef57124d458a5e9f7b</td>\n",
       "    </tr>\n",
       "    <tr>\n",
       "      <th>2_S2_R2_001_Run230316</th>\n",
       "      <td>/Volumes/kueck/FASTQ/CellLines/RNA-Seq/230316_...</td>\n",
       "      <td>/Volumes/kueck/ovarian_cancer_cisplatin_respon...</td>\n",
       "      <td>2_S2_R2_001_Run230316.fastq.gz</td>\n",
       "      <td>46e40cbfdf13d025863609aab40e63cd</td>\n",
       "    </tr>\n",
       "    <tr>\n",
       "      <th>3_S3_R1_001_Run230316</th>\n",
       "      <td>/Volumes/kueck/FASTQ/CellLines/RNA-Seq/230316_...</td>\n",
       "      <td>/Volumes/kueck/ovarian_cancer_cisplatin_respon...</td>\n",
       "      <td>3_S3_R1_001_Run230316.fastq.gz</td>\n",
       "      <td>e28b40d675a63b1837587ff28dc2a618</td>\n",
       "    </tr>\n",
       "    <tr>\n",
       "      <th>...</th>\n",
       "      <td>...</td>\n",
       "      <td>...</td>\n",
       "      <td>...</td>\n",
       "      <td>...</td>\n",
       "    </tr>\n",
       "    <tr>\n",
       "      <th>31_S31_R2_001_Run230323</th>\n",
       "      <td>/Volumes/kueck/FASTQ/CellLines/RNA-Seq/230323_...</td>\n",
       "      <td>/Volumes/kueck/ovarian_cancer_cisplatin_respon...</td>\n",
       "      <td>31_S31_R2_001_Run230323.fastq.gz</td>\n",
       "      <td>267e934f226bb6bc9926fdcd69a8b063</td>\n",
       "    </tr>\n",
       "    <tr>\n",
       "      <th>32_S32_R1_001_Run230323</th>\n",
       "      <td>/Volumes/kueck/FASTQ/CellLines/RNA-Seq/230323_...</td>\n",
       "      <td>/Volumes/kueck/ovarian_cancer_cisplatin_respon...</td>\n",
       "      <td>32_S32_R1_001_Run230323.fastq.gz</td>\n",
       "      <td>c8634cdab2082b4198d58ccc0057f77b</td>\n",
       "    </tr>\n",
       "    <tr>\n",
       "      <th>32_S32_R2_001_Run230323</th>\n",
       "      <td>/Volumes/kueck/FASTQ/CellLines/RNA-Seq/230323_...</td>\n",
       "      <td>/Volumes/kueck/ovarian_cancer_cisplatin_respon...</td>\n",
       "      <td>32_S32_R2_001_Run230323.fastq.gz</td>\n",
       "      <td>b332e910a17b49a3f1599ee04b4d2743</td>\n",
       "    </tr>\n",
       "    <tr>\n",
       "      <th>33_S33_R1_001_Run230323</th>\n",
       "      <td>/Volumes/kueck/FASTQ/CellLines/RNA-Seq/230323_...</td>\n",
       "      <td>/Volumes/kueck/ovarian_cancer_cisplatin_respon...</td>\n",
       "      <td>33_S33_R1_001_Run230323.fastq.gz</td>\n",
       "      <td>4214a83565ed2095db0cf9a49fec95af</td>\n",
       "    </tr>\n",
       "    <tr>\n",
       "      <th>33_S33_R2_001_Run230323</th>\n",
       "      <td>/Volumes/kueck/FASTQ/CellLines/RNA-Seq/230323_...</td>\n",
       "      <td>/Volumes/kueck/ovarian_cancer_cisplatin_respon...</td>\n",
       "      <td>33_S33_R2_001_Run230323.fastq.gz</td>\n",
       "      <td>d63eaf377ef182909d4a4394095ef673</td>\n",
       "    </tr>\n",
       "  </tbody>\n",
       "</table>\n",
       "<p>198 rows × 4 columns</p>\n",
       "</div>"
      ],
      "text/plain": [
       "                                                       original_fastq_path  \\\n",
       "sample_id                                                                    \n",
       "1_S1_R1_001_Run230316    /Volumes/kueck/FASTQ/CellLines/RNA-Seq/230316_...   \n",
       "1_S1_R2_001_Run230316    /Volumes/kueck/FASTQ/CellLines/RNA-Seq/230316_...   \n",
       "2_S2_R1_001_Run230316    /Volumes/kueck/FASTQ/CellLines/RNA-Seq/230316_...   \n",
       "2_S2_R2_001_Run230316    /Volumes/kueck/FASTQ/CellLines/RNA-Seq/230316_...   \n",
       "3_S3_R1_001_Run230316    /Volumes/kueck/FASTQ/CellLines/RNA-Seq/230316_...   \n",
       "...                                                                    ...   \n",
       "31_S31_R2_001_Run230323  /Volumes/kueck/FASTQ/CellLines/RNA-Seq/230323_...   \n",
       "32_S32_R1_001_Run230323  /Volumes/kueck/FASTQ/CellLines/RNA-Seq/230323_...   \n",
       "32_S32_R2_001_Run230323  /Volumes/kueck/FASTQ/CellLines/RNA-Seq/230323_...   \n",
       "33_S33_R1_001_Run230323  /Volumes/kueck/FASTQ/CellLines/RNA-Seq/230323_...   \n",
       "33_S33_R2_001_Run230323  /Volumes/kueck/FASTQ/CellLines/RNA-Seq/230323_...   \n",
       "\n",
       "                                                        symlink_fastq_path  \\\n",
       "sample_id                                                                    \n",
       "1_S1_R1_001_Run230316    /Volumes/kueck/ovarian_cancer_cisplatin_respon...   \n",
       "1_S1_R2_001_Run230316    /Volumes/kueck/ovarian_cancer_cisplatin_respon...   \n",
       "2_S2_R1_001_Run230316    /Volumes/kueck/ovarian_cancer_cisplatin_respon...   \n",
       "2_S2_R2_001_Run230316    /Volumes/kueck/ovarian_cancer_cisplatin_respon...   \n",
       "3_S3_R1_001_Run230316    /Volumes/kueck/ovarian_cancer_cisplatin_respon...   \n",
       "...                                                                    ...   \n",
       "31_S31_R2_001_Run230323  /Volumes/kueck/ovarian_cancer_cisplatin_respon...   \n",
       "32_S32_R1_001_Run230323  /Volumes/kueck/ovarian_cancer_cisplatin_respon...   \n",
       "32_S32_R2_001_Run230323  /Volumes/kueck/ovarian_cancer_cisplatin_respon...   \n",
       "33_S33_R1_001_Run230323  /Volumes/kueck/ovarian_cancer_cisplatin_respon...   \n",
       "33_S33_R2_001_Run230323  /Volumes/kueck/ovarian_cancer_cisplatin_respon...   \n",
       "\n",
       "                                          final_file_name  \\\n",
       "sample_id                                                   \n",
       "1_S1_R1_001_Run230316      1_S1_R1_001_Run230316.fastq.gz   \n",
       "1_S1_R2_001_Run230316      1_S1_R2_001_Run230316.fastq.gz   \n",
       "2_S2_R1_001_Run230316      2_S2_R1_001_Run230316.fastq.gz   \n",
       "2_S2_R2_001_Run230316      2_S2_R2_001_Run230316.fastq.gz   \n",
       "3_S3_R1_001_Run230316      3_S3_R1_001_Run230316.fastq.gz   \n",
       "...                                                   ...   \n",
       "31_S31_R2_001_Run230323  31_S31_R2_001_Run230323.fastq.gz   \n",
       "32_S32_R1_001_Run230323  32_S32_R1_001_Run230323.fastq.gz   \n",
       "32_S32_R2_001_Run230323  32_S32_R2_001_Run230323.fastq.gz   \n",
       "33_S33_R1_001_Run230323  33_S33_R1_001_Run230323.fastq.gz   \n",
       "33_S33_R2_001_Run230323  33_S33_R2_001_Run230323.fastq.gz   \n",
       "\n",
       "                                             md5_checksum  \n",
       "sample_id                                                  \n",
       "1_S1_R1_001_Run230316    19cee84a6a3598930e2e6befdf203e0f  \n",
       "1_S1_R2_001_Run230316    a41a73120d75d1a5c4696488dc56af78  \n",
       "2_S2_R1_001_Run230316    0613d63ebd5346ef57124d458a5e9f7b  \n",
       "2_S2_R2_001_Run230316    46e40cbfdf13d025863609aab40e63cd  \n",
       "3_S3_R1_001_Run230316    e28b40d675a63b1837587ff28dc2a618  \n",
       "...                                                   ...  \n",
       "31_S31_R2_001_Run230323  267e934f226bb6bc9926fdcd69a8b063  \n",
       "32_S32_R1_001_Run230323  c8634cdab2082b4198d58ccc0057f77b  \n",
       "32_S32_R2_001_Run230323  b332e910a17b49a3f1599ee04b4d2743  \n",
       "33_S33_R1_001_Run230323  4214a83565ed2095db0cf9a49fec95af  \n",
       "33_S33_R2_001_Run230323  d63eaf377ef182909d4a4394095ef673  \n",
       "\n",
       "[198 rows x 4 columns]"
      ]
     },
     "metadata": {},
     "output_type": "display_data"
    }
   ],
   "source": [
    "sample_info.to_csv(sample_info_path, sep=\"\\t\", index=True)\n",
    "display(sample_info)"
   ]
  },
  {
   "cell_type": "markdown",
   "metadata": {},
   "source": [
    "## Create formatted table with files per experimental sample"
   ]
  },
  {
   "cell_type": "code",
   "execution_count": 17,
   "metadata": {},
   "outputs": [
    {
     "data": {
      "text/html": [
       "<div>\n",
       "<style scoped>\n",
       "    .dataframe tbody tr th:only-of-type {\n",
       "        vertical-align: middle;\n",
       "    }\n",
       "\n",
       "    .dataframe tbody tr th {\n",
       "        vertical-align: top;\n",
       "    }\n",
       "\n",
       "    .dataframe thead th {\n",
       "        text-align: right;\n",
       "    }\n",
       "</style>\n",
       "<table border=\"1\" class=\"dataframe\">\n",
       "  <thead>\n",
       "    <tr style=\"text-align: right;\">\n",
       "      <th></th>\n",
       "      <th>Run230316_R1</th>\n",
       "      <th>Run230316_R2</th>\n",
       "      <th>Run230322_R1</th>\n",
       "      <th>Run230322_R2</th>\n",
       "      <th>Run230323_R1</th>\n",
       "      <th>Run230323_R2</th>\n",
       "    </tr>\n",
       "    <tr>\n",
       "      <th>sample_number</th>\n",
       "      <th></th>\n",
       "      <th></th>\n",
       "      <th></th>\n",
       "      <th></th>\n",
       "      <th></th>\n",
       "      <th></th>\n",
       "    </tr>\n",
       "  </thead>\n",
       "  <tbody>\n",
       "    <tr>\n",
       "      <th>1</th>\n",
       "      <td>1_S1_R1_001_Run230316.fastq.gz</td>\n",
       "      <td>1_S1_R2_001_Run230316.fastq.gz</td>\n",
       "      <td>1_S1_R1_001_Run230322.fastq.gz</td>\n",
       "      <td>1_S1_R2_001_Run230322.fastq.gz</td>\n",
       "      <td>1_S1_R1_001_Run230323.fastq.gz</td>\n",
       "      <td>1_S1_R2_001_Run230323.fastq.gz</td>\n",
       "    </tr>\n",
       "    <tr>\n",
       "      <th>2</th>\n",
       "      <td>2_S2_R1_001_Run230316.fastq.gz</td>\n",
       "      <td>2_S2_R2_001_Run230316.fastq.gz</td>\n",
       "      <td>2_S2_R1_001_Run230322.fastq.gz</td>\n",
       "      <td>2_S2_R2_001_Run230322.fastq.gz</td>\n",
       "      <td>2_S2_R1_001_Run230323.fastq.gz</td>\n",
       "      <td>2_S2_R2_001_Run230323.fastq.gz</td>\n",
       "    </tr>\n",
       "    <tr>\n",
       "      <th>3</th>\n",
       "      <td>3_S3_R1_001_Run230316.fastq.gz</td>\n",
       "      <td>3_S3_R2_001_Run230316.fastq.gz</td>\n",
       "      <td>3_S3_R1_001_Run230322.fastq.gz</td>\n",
       "      <td>3_S3_R2_001_Run230322.fastq.gz</td>\n",
       "      <td>3_S3_R1_001_Run230323.fastq.gz</td>\n",
       "      <td>3_S3_R2_001_Run230323.fastq.gz</td>\n",
       "    </tr>\n",
       "    <tr>\n",
       "      <th>4</th>\n",
       "      <td>4_S4_R1_001_Run230316.fastq.gz</td>\n",
       "      <td>4_S4_R2_001_Run230316.fastq.gz</td>\n",
       "      <td>4_S4_R1_001_Run230322.fastq.gz</td>\n",
       "      <td>4_S4_R2_001_Run230322.fastq.gz</td>\n",
       "      <td>4_S4_R1_001_Run230323.fastq.gz</td>\n",
       "      <td>4_S4_R2_001_Run230323.fastq.gz</td>\n",
       "    </tr>\n",
       "    <tr>\n",
       "      <th>5</th>\n",
       "      <td>5_S5_R1_001_Run230316.fastq.gz</td>\n",
       "      <td>5_S5_R2_001_Run230316.fastq.gz</td>\n",
       "      <td>5_S5_R1_001_Run230322.fastq.gz</td>\n",
       "      <td>5_S5_R2_001_Run230322.fastq.gz</td>\n",
       "      <td>5_S5_R1_001_Run230323.fastq.gz</td>\n",
       "      <td>5_S5_R2_001_Run230323.fastq.gz</td>\n",
       "    </tr>\n",
       "    <tr>\n",
       "      <th>6</th>\n",
       "      <td>6_S6_R1_001_Run230316.fastq.gz</td>\n",
       "      <td>6_S6_R2_001_Run230316.fastq.gz</td>\n",
       "      <td>6_S6_R1_001_Run230322.fastq.gz</td>\n",
       "      <td>6_S6_R2_001_Run230322.fastq.gz</td>\n",
       "      <td>6_S6_R1_001_Run230323.fastq.gz</td>\n",
       "      <td>6_S6_R2_001_Run230323.fastq.gz</td>\n",
       "    </tr>\n",
       "    <tr>\n",
       "      <th>7</th>\n",
       "      <td>7_S7_R1_001_Run230316.fastq.gz</td>\n",
       "      <td>7_S7_R2_001_Run230316.fastq.gz</td>\n",
       "      <td>7_S7_R1_001_Run230322.fastq.gz</td>\n",
       "      <td>7_S7_R2_001_Run230322.fastq.gz</td>\n",
       "      <td>7_S7_R1_001_Run230323.fastq.gz</td>\n",
       "      <td>7_S7_R2_001_Run230323.fastq.gz</td>\n",
       "    </tr>\n",
       "    <tr>\n",
       "      <th>8</th>\n",
       "      <td>8_S8_R1_001_Run230316.fastq.gz</td>\n",
       "      <td>8_S8_R2_001_Run230316.fastq.gz</td>\n",
       "      <td>8_S8_R1_001_Run230322.fastq.gz</td>\n",
       "      <td>8_S8_R2_001_Run230322.fastq.gz</td>\n",
       "      <td>8_S8_R1_001_Run230323.fastq.gz</td>\n",
       "      <td>8_S8_R2_001_Run230323.fastq.gz</td>\n",
       "    </tr>\n",
       "    <tr>\n",
       "      <th>9</th>\n",
       "      <td>9_S9_R1_001_Run230316.fastq.gz</td>\n",
       "      <td>9_S9_R2_001_Run230316.fastq.gz</td>\n",
       "      <td>9_S9_R1_001_Run230322.fastq.gz</td>\n",
       "      <td>9_S9_R2_001_Run230322.fastq.gz</td>\n",
       "      <td>9_S9_R1_001_Run230323.fastq.gz</td>\n",
       "      <td>9_S9_R2_001_Run230323.fastq.gz</td>\n",
       "    </tr>\n",
       "    <tr>\n",
       "      <th>10</th>\n",
       "      <td>10_S10_R1_001_Run230316.fastq.gz</td>\n",
       "      <td>10_S10_R2_001_Run230316.fastq.gz</td>\n",
       "      <td>10_S10_R1_001_Run230322.fastq.gz</td>\n",
       "      <td>10_S10_R2_001_Run230322.fastq.gz</td>\n",
       "      <td>10_S10_R1_001_Run230323.fastq.gz</td>\n",
       "      <td>10_S10_R2_001_Run230323.fastq.gz</td>\n",
       "    </tr>\n",
       "    <tr>\n",
       "      <th>11</th>\n",
       "      <td>11_S11_R1_001_Run230316.fastq.gz</td>\n",
       "      <td>11_S11_R2_001_Run230316.fastq.gz</td>\n",
       "      <td>11_S11_R1_001_Run230322.fastq.gz</td>\n",
       "      <td>11_S11_R2_001_Run230322.fastq.gz</td>\n",
       "      <td>11_S11_R1_001_Run230323.fastq.gz</td>\n",
       "      <td>11_S11_R2_001_Run230323.fastq.gz</td>\n",
       "    </tr>\n",
       "    <tr>\n",
       "      <th>12</th>\n",
       "      <td>12_S12_R1_001_Run230316.fastq.gz</td>\n",
       "      <td>12_S12_R2_001_Run230316.fastq.gz</td>\n",
       "      <td>12_S12_R1_001_Run230322.fastq.gz</td>\n",
       "      <td>12_S12_R2_001_Run230322.fastq.gz</td>\n",
       "      <td>12_S12_R1_001_Run230323.fastq.gz</td>\n",
       "      <td>12_S12_R2_001_Run230323.fastq.gz</td>\n",
       "    </tr>\n",
       "    <tr>\n",
       "      <th>13</th>\n",
       "      <td>13_S13_R1_001_Run230316.fastq.gz</td>\n",
       "      <td>13_S13_R2_001_Run230316.fastq.gz</td>\n",
       "      <td>13_S13_R1_001_Run230322.fastq.gz</td>\n",
       "      <td>13_S13_R2_001_Run230322.fastq.gz</td>\n",
       "      <td>13_S13_R1_001_Run230323.fastq.gz</td>\n",
       "      <td>13_S13_R2_001_Run230323.fastq.gz</td>\n",
       "    </tr>\n",
       "    <tr>\n",
       "      <th>14</th>\n",
       "      <td>14_S14_R1_001_Run230316.fastq.gz</td>\n",
       "      <td>14_S14_R2_001_Run230316.fastq.gz</td>\n",
       "      <td>14_S14_R1_001_Run230322.fastq.gz</td>\n",
       "      <td>14_S14_R2_001_Run230322.fastq.gz</td>\n",
       "      <td>14_S14_R1_001_Run230323.fastq.gz</td>\n",
       "      <td>14_S14_R2_001_Run230323.fastq.gz</td>\n",
       "    </tr>\n",
       "    <tr>\n",
       "      <th>15</th>\n",
       "      <td>15_S15_R1_001_Run230316.fastq.gz</td>\n",
       "      <td>15_S15_R2_001_Run230316.fastq.gz</td>\n",
       "      <td>15_S15_R1_001_Run230322.fastq.gz</td>\n",
       "      <td>15_S15_R2_001_Run230322.fastq.gz</td>\n",
       "      <td>15_S15_R1_001_Run230323.fastq.gz</td>\n",
       "      <td>15_S15_R2_001_Run230323.fastq.gz</td>\n",
       "    </tr>\n",
       "    <tr>\n",
       "      <th>16</th>\n",
       "      <td>16_S16_R1_001_Run230316.fastq.gz</td>\n",
       "      <td>16_S16_R2_001_Run230316.fastq.gz</td>\n",
       "      <td>16_S16_R1_001_Run230322.fastq.gz</td>\n",
       "      <td>16_S16_R2_001_Run230322.fastq.gz</td>\n",
       "      <td>16_S16_R1_001_Run230323.fastq.gz</td>\n",
       "      <td>16_S16_R2_001_Run230323.fastq.gz</td>\n",
       "    </tr>\n",
       "    <tr>\n",
       "      <th>17</th>\n",
       "      <td>17_S17_R1_001_Run230316.fastq.gz</td>\n",
       "      <td>17_S17_R2_001_Run230316.fastq.gz</td>\n",
       "      <td>17_S17_R1_001_Run230322.fastq.gz</td>\n",
       "      <td>17_S17_R2_001_Run230322.fastq.gz</td>\n",
       "      <td>17_S17_R1_001_Run230323.fastq.gz</td>\n",
       "      <td>17_S17_R2_001_Run230323.fastq.gz</td>\n",
       "    </tr>\n",
       "    <tr>\n",
       "      <th>18</th>\n",
       "      <td>18_S18_R1_001_Run230316.fastq.gz</td>\n",
       "      <td>18_S18_R2_001_Run230316.fastq.gz</td>\n",
       "      <td>18_S18_R1_001_Run230322.fastq.gz</td>\n",
       "      <td>18_S18_R2_001_Run230322.fastq.gz</td>\n",
       "      <td>18_S18_R1_001_Run230323.fastq.gz</td>\n",
       "      <td>18_S18_R2_001_Run230323.fastq.gz</td>\n",
       "    </tr>\n",
       "    <tr>\n",
       "      <th>19</th>\n",
       "      <td>19_S19_R1_001_Run230316.fastq.gz</td>\n",
       "      <td>19_S19_R2_001_Run230316.fastq.gz</td>\n",
       "      <td>19_S19_R1_001_Run230322.fastq.gz</td>\n",
       "      <td>19_S19_R2_001_Run230322.fastq.gz</td>\n",
       "      <td>19_S19_R1_001_Run230323.fastq.gz</td>\n",
       "      <td>19_S19_R2_001_Run230323.fastq.gz</td>\n",
       "    </tr>\n",
       "    <tr>\n",
       "      <th>20</th>\n",
       "      <td>20_S20_R1_001_Run230316.fastq.gz</td>\n",
       "      <td>20_S20_R2_001_Run230316.fastq.gz</td>\n",
       "      <td>20_S20_R1_001_Run230322.fastq.gz</td>\n",
       "      <td>20_S20_R2_001_Run230322.fastq.gz</td>\n",
       "      <td>20_S20_R1_001_Run230323.fastq.gz</td>\n",
       "      <td>20_S20_R2_001_Run230323.fastq.gz</td>\n",
       "    </tr>\n",
       "    <tr>\n",
       "      <th>21</th>\n",
       "      <td>21_S21_R1_001_Run230316.fastq.gz</td>\n",
       "      <td>21_S21_R2_001_Run230316.fastq.gz</td>\n",
       "      <td>21_S21_R1_001_Run230322.fastq.gz</td>\n",
       "      <td>21_S21_R2_001_Run230322.fastq.gz</td>\n",
       "      <td>21_S21_R1_001_Run230323.fastq.gz</td>\n",
       "      <td>21_S21_R2_001_Run230323.fastq.gz</td>\n",
       "    </tr>\n",
       "    <tr>\n",
       "      <th>22</th>\n",
       "      <td>22_S22_R1_001_Run230316.fastq.gz</td>\n",
       "      <td>22_S22_R2_001_Run230316.fastq.gz</td>\n",
       "      <td>22_S22_R1_001_Run230322.fastq.gz</td>\n",
       "      <td>22_S22_R2_001_Run230322.fastq.gz</td>\n",
       "      <td>22_S22_R1_001_Run230323.fastq.gz</td>\n",
       "      <td>22_S22_R2_001_Run230323.fastq.gz</td>\n",
       "    </tr>\n",
       "    <tr>\n",
       "      <th>23</th>\n",
       "      <td>23_S23_R1_001_Run230316.fastq.gz</td>\n",
       "      <td>23_S23_R2_001_Run230316.fastq.gz</td>\n",
       "      <td>23_S23_R1_001_Run230322.fastq.gz</td>\n",
       "      <td>23_S23_R2_001_Run230322.fastq.gz</td>\n",
       "      <td>23_S23_R1_001_Run230323.fastq.gz</td>\n",
       "      <td>23_S23_R2_001_Run230323.fastq.gz</td>\n",
       "    </tr>\n",
       "    <tr>\n",
       "      <th>24</th>\n",
       "      <td>24_S24_R1_001_Run230316.fastq.gz</td>\n",
       "      <td>24_S24_R2_001_Run230316.fastq.gz</td>\n",
       "      <td>24_S24_R1_001_Run230322.fastq.gz</td>\n",
       "      <td>24_S24_R2_001_Run230322.fastq.gz</td>\n",
       "      <td>24_S24_R1_001_Run230323.fastq.gz</td>\n",
       "      <td>24_S24_R2_001_Run230323.fastq.gz</td>\n",
       "    </tr>\n",
       "    <tr>\n",
       "      <th>25</th>\n",
       "      <td>25_S25_R1_001_Run230316.fastq.gz</td>\n",
       "      <td>25_S25_R2_001_Run230316.fastq.gz</td>\n",
       "      <td>25_S25_R1_001_Run230322.fastq.gz</td>\n",
       "      <td>25_S25_R2_001_Run230322.fastq.gz</td>\n",
       "      <td>25_S25_R1_001_Run230323.fastq.gz</td>\n",
       "      <td>25_S25_R2_001_Run230323.fastq.gz</td>\n",
       "    </tr>\n",
       "    <tr>\n",
       "      <th>26</th>\n",
       "      <td>26_S26_R1_001_Run230316.fastq.gz</td>\n",
       "      <td>26_S26_R2_001_Run230316.fastq.gz</td>\n",
       "      <td>26_S26_R1_001_Run230322.fastq.gz</td>\n",
       "      <td>26_S26_R2_001_Run230322.fastq.gz</td>\n",
       "      <td>26_S26_R1_001_Run230323.fastq.gz</td>\n",
       "      <td>26_S26_R2_001_Run230323.fastq.gz</td>\n",
       "    </tr>\n",
       "    <tr>\n",
       "      <th>27</th>\n",
       "      <td>27_S27_R1_001_Run230316.fastq.gz</td>\n",
       "      <td>27_S27_R2_001_Run230316.fastq.gz</td>\n",
       "      <td>27_S27_R1_001_Run230322.fastq.gz</td>\n",
       "      <td>27_S27_R2_001_Run230322.fastq.gz</td>\n",
       "      <td>27_S27_R1_001_Run230323.fastq.gz</td>\n",
       "      <td>27_S27_R2_001_Run230323.fastq.gz</td>\n",
       "    </tr>\n",
       "    <tr>\n",
       "      <th>28</th>\n",
       "      <td>28_S28_R1_001_Run230316.fastq.gz</td>\n",
       "      <td>28_S28_R2_001_Run230316.fastq.gz</td>\n",
       "      <td>28_S28_R1_001_Run230322.fastq.gz</td>\n",
       "      <td>28_S28_R2_001_Run230322.fastq.gz</td>\n",
       "      <td>28_S28_R1_001_Run230323.fastq.gz</td>\n",
       "      <td>28_S28_R2_001_Run230323.fastq.gz</td>\n",
       "    </tr>\n",
       "    <tr>\n",
       "      <th>29</th>\n",
       "      <td>29_S29_R1_001_Run230316.fastq.gz</td>\n",
       "      <td>29_S29_R2_001_Run230316.fastq.gz</td>\n",
       "      <td>29_S29_R1_001_Run230322.fastq.gz</td>\n",
       "      <td>29_S29_R2_001_Run230322.fastq.gz</td>\n",
       "      <td>29_S29_R1_001_Run230323.fastq.gz</td>\n",
       "      <td>29_S29_R2_001_Run230323.fastq.gz</td>\n",
       "    </tr>\n",
       "    <tr>\n",
       "      <th>30</th>\n",
       "      <td>30_S30_R1_001_Run230316.fastq.gz</td>\n",
       "      <td>30_S30_R2_001_Run230316.fastq.gz</td>\n",
       "      <td>30_S30_R1_001_Run230322.fastq.gz</td>\n",
       "      <td>30_S30_R2_001_Run230322.fastq.gz</td>\n",
       "      <td>30_S30_R1_001_Run230323.fastq.gz</td>\n",
       "      <td>30_S30_R2_001_Run230323.fastq.gz</td>\n",
       "    </tr>\n",
       "    <tr>\n",
       "      <th>31</th>\n",
       "      <td>31_S31_R1_001_Run230316.fastq.gz</td>\n",
       "      <td>31_S31_R2_001_Run230316.fastq.gz</td>\n",
       "      <td>31_S31_R1_001_Run230322.fastq.gz</td>\n",
       "      <td>31_S31_R2_001_Run230322.fastq.gz</td>\n",
       "      <td>31_S31_R1_001_Run230323.fastq.gz</td>\n",
       "      <td>31_S31_R2_001_Run230323.fastq.gz</td>\n",
       "    </tr>\n",
       "    <tr>\n",
       "      <th>32</th>\n",
       "      <td>32_S32_R1_001_Run230316.fastq.gz</td>\n",
       "      <td>32_S32_R2_001_Run230316.fastq.gz</td>\n",
       "      <td>32_S32_R1_001_Run230322.fastq.gz</td>\n",
       "      <td>32_S32_R2_001_Run230322.fastq.gz</td>\n",
       "      <td>32_S32_R1_001_Run230323.fastq.gz</td>\n",
       "      <td>32_S32_R2_001_Run230323.fastq.gz</td>\n",
       "    </tr>\n",
       "    <tr>\n",
       "      <th>33</th>\n",
       "      <td>33_S33_R1_001_Run230316.fastq.gz</td>\n",
       "      <td>33_S33_R2_001_Run230316.fastq.gz</td>\n",
       "      <td>33_S33_R1_001_Run230322.fastq.gz</td>\n",
       "      <td>33_S33_R2_001_Run230322.fastq.gz</td>\n",
       "      <td>33_S33_R1_001_Run230323.fastq.gz</td>\n",
       "      <td>33_S33_R2_001_Run230323.fastq.gz</td>\n",
       "    </tr>\n",
       "  </tbody>\n",
       "</table>\n",
       "</div>"
      ],
      "text/plain": [
       "                                   Run230316_R1  \\\n",
       "sample_number                                     \n",
       "1                1_S1_R1_001_Run230316.fastq.gz   \n",
       "2                2_S2_R1_001_Run230316.fastq.gz   \n",
       "3                3_S3_R1_001_Run230316.fastq.gz   \n",
       "4                4_S4_R1_001_Run230316.fastq.gz   \n",
       "5                5_S5_R1_001_Run230316.fastq.gz   \n",
       "6                6_S6_R1_001_Run230316.fastq.gz   \n",
       "7                7_S7_R1_001_Run230316.fastq.gz   \n",
       "8                8_S8_R1_001_Run230316.fastq.gz   \n",
       "9                9_S9_R1_001_Run230316.fastq.gz   \n",
       "10             10_S10_R1_001_Run230316.fastq.gz   \n",
       "11             11_S11_R1_001_Run230316.fastq.gz   \n",
       "12             12_S12_R1_001_Run230316.fastq.gz   \n",
       "13             13_S13_R1_001_Run230316.fastq.gz   \n",
       "14             14_S14_R1_001_Run230316.fastq.gz   \n",
       "15             15_S15_R1_001_Run230316.fastq.gz   \n",
       "16             16_S16_R1_001_Run230316.fastq.gz   \n",
       "17             17_S17_R1_001_Run230316.fastq.gz   \n",
       "18             18_S18_R1_001_Run230316.fastq.gz   \n",
       "19             19_S19_R1_001_Run230316.fastq.gz   \n",
       "20             20_S20_R1_001_Run230316.fastq.gz   \n",
       "21             21_S21_R1_001_Run230316.fastq.gz   \n",
       "22             22_S22_R1_001_Run230316.fastq.gz   \n",
       "23             23_S23_R1_001_Run230316.fastq.gz   \n",
       "24             24_S24_R1_001_Run230316.fastq.gz   \n",
       "25             25_S25_R1_001_Run230316.fastq.gz   \n",
       "26             26_S26_R1_001_Run230316.fastq.gz   \n",
       "27             27_S27_R1_001_Run230316.fastq.gz   \n",
       "28             28_S28_R1_001_Run230316.fastq.gz   \n",
       "29             29_S29_R1_001_Run230316.fastq.gz   \n",
       "30             30_S30_R1_001_Run230316.fastq.gz   \n",
       "31             31_S31_R1_001_Run230316.fastq.gz   \n",
       "32             32_S32_R1_001_Run230316.fastq.gz   \n",
       "33             33_S33_R1_001_Run230316.fastq.gz   \n",
       "\n",
       "                                   Run230316_R2  \\\n",
       "sample_number                                     \n",
       "1                1_S1_R2_001_Run230316.fastq.gz   \n",
       "2                2_S2_R2_001_Run230316.fastq.gz   \n",
       "3                3_S3_R2_001_Run230316.fastq.gz   \n",
       "4                4_S4_R2_001_Run230316.fastq.gz   \n",
       "5                5_S5_R2_001_Run230316.fastq.gz   \n",
       "6                6_S6_R2_001_Run230316.fastq.gz   \n",
       "7                7_S7_R2_001_Run230316.fastq.gz   \n",
       "8                8_S8_R2_001_Run230316.fastq.gz   \n",
       "9                9_S9_R2_001_Run230316.fastq.gz   \n",
       "10             10_S10_R2_001_Run230316.fastq.gz   \n",
       "11             11_S11_R2_001_Run230316.fastq.gz   \n",
       "12             12_S12_R2_001_Run230316.fastq.gz   \n",
       "13             13_S13_R2_001_Run230316.fastq.gz   \n",
       "14             14_S14_R2_001_Run230316.fastq.gz   \n",
       "15             15_S15_R2_001_Run230316.fastq.gz   \n",
       "16             16_S16_R2_001_Run230316.fastq.gz   \n",
       "17             17_S17_R2_001_Run230316.fastq.gz   \n",
       "18             18_S18_R2_001_Run230316.fastq.gz   \n",
       "19             19_S19_R2_001_Run230316.fastq.gz   \n",
       "20             20_S20_R2_001_Run230316.fastq.gz   \n",
       "21             21_S21_R2_001_Run230316.fastq.gz   \n",
       "22             22_S22_R2_001_Run230316.fastq.gz   \n",
       "23             23_S23_R2_001_Run230316.fastq.gz   \n",
       "24             24_S24_R2_001_Run230316.fastq.gz   \n",
       "25             25_S25_R2_001_Run230316.fastq.gz   \n",
       "26             26_S26_R2_001_Run230316.fastq.gz   \n",
       "27             27_S27_R2_001_Run230316.fastq.gz   \n",
       "28             28_S28_R2_001_Run230316.fastq.gz   \n",
       "29             29_S29_R2_001_Run230316.fastq.gz   \n",
       "30             30_S30_R2_001_Run230316.fastq.gz   \n",
       "31             31_S31_R2_001_Run230316.fastq.gz   \n",
       "32             32_S32_R2_001_Run230316.fastq.gz   \n",
       "33             33_S33_R2_001_Run230316.fastq.gz   \n",
       "\n",
       "                                   Run230322_R1  \\\n",
       "sample_number                                     \n",
       "1                1_S1_R1_001_Run230322.fastq.gz   \n",
       "2                2_S2_R1_001_Run230322.fastq.gz   \n",
       "3                3_S3_R1_001_Run230322.fastq.gz   \n",
       "4                4_S4_R1_001_Run230322.fastq.gz   \n",
       "5                5_S5_R1_001_Run230322.fastq.gz   \n",
       "6                6_S6_R1_001_Run230322.fastq.gz   \n",
       "7                7_S7_R1_001_Run230322.fastq.gz   \n",
       "8                8_S8_R1_001_Run230322.fastq.gz   \n",
       "9                9_S9_R1_001_Run230322.fastq.gz   \n",
       "10             10_S10_R1_001_Run230322.fastq.gz   \n",
       "11             11_S11_R1_001_Run230322.fastq.gz   \n",
       "12             12_S12_R1_001_Run230322.fastq.gz   \n",
       "13             13_S13_R1_001_Run230322.fastq.gz   \n",
       "14             14_S14_R1_001_Run230322.fastq.gz   \n",
       "15             15_S15_R1_001_Run230322.fastq.gz   \n",
       "16             16_S16_R1_001_Run230322.fastq.gz   \n",
       "17             17_S17_R1_001_Run230322.fastq.gz   \n",
       "18             18_S18_R1_001_Run230322.fastq.gz   \n",
       "19             19_S19_R1_001_Run230322.fastq.gz   \n",
       "20             20_S20_R1_001_Run230322.fastq.gz   \n",
       "21             21_S21_R1_001_Run230322.fastq.gz   \n",
       "22             22_S22_R1_001_Run230322.fastq.gz   \n",
       "23             23_S23_R1_001_Run230322.fastq.gz   \n",
       "24             24_S24_R1_001_Run230322.fastq.gz   \n",
       "25             25_S25_R1_001_Run230322.fastq.gz   \n",
       "26             26_S26_R1_001_Run230322.fastq.gz   \n",
       "27             27_S27_R1_001_Run230322.fastq.gz   \n",
       "28             28_S28_R1_001_Run230322.fastq.gz   \n",
       "29             29_S29_R1_001_Run230322.fastq.gz   \n",
       "30             30_S30_R1_001_Run230322.fastq.gz   \n",
       "31             31_S31_R1_001_Run230322.fastq.gz   \n",
       "32             32_S32_R1_001_Run230322.fastq.gz   \n",
       "33             33_S33_R1_001_Run230322.fastq.gz   \n",
       "\n",
       "                                   Run230322_R2  \\\n",
       "sample_number                                     \n",
       "1                1_S1_R2_001_Run230322.fastq.gz   \n",
       "2                2_S2_R2_001_Run230322.fastq.gz   \n",
       "3                3_S3_R2_001_Run230322.fastq.gz   \n",
       "4                4_S4_R2_001_Run230322.fastq.gz   \n",
       "5                5_S5_R2_001_Run230322.fastq.gz   \n",
       "6                6_S6_R2_001_Run230322.fastq.gz   \n",
       "7                7_S7_R2_001_Run230322.fastq.gz   \n",
       "8                8_S8_R2_001_Run230322.fastq.gz   \n",
       "9                9_S9_R2_001_Run230322.fastq.gz   \n",
       "10             10_S10_R2_001_Run230322.fastq.gz   \n",
       "11             11_S11_R2_001_Run230322.fastq.gz   \n",
       "12             12_S12_R2_001_Run230322.fastq.gz   \n",
       "13             13_S13_R2_001_Run230322.fastq.gz   \n",
       "14             14_S14_R2_001_Run230322.fastq.gz   \n",
       "15             15_S15_R2_001_Run230322.fastq.gz   \n",
       "16             16_S16_R2_001_Run230322.fastq.gz   \n",
       "17             17_S17_R2_001_Run230322.fastq.gz   \n",
       "18             18_S18_R2_001_Run230322.fastq.gz   \n",
       "19             19_S19_R2_001_Run230322.fastq.gz   \n",
       "20             20_S20_R2_001_Run230322.fastq.gz   \n",
       "21             21_S21_R2_001_Run230322.fastq.gz   \n",
       "22             22_S22_R2_001_Run230322.fastq.gz   \n",
       "23             23_S23_R2_001_Run230322.fastq.gz   \n",
       "24             24_S24_R2_001_Run230322.fastq.gz   \n",
       "25             25_S25_R2_001_Run230322.fastq.gz   \n",
       "26             26_S26_R2_001_Run230322.fastq.gz   \n",
       "27             27_S27_R2_001_Run230322.fastq.gz   \n",
       "28             28_S28_R2_001_Run230322.fastq.gz   \n",
       "29             29_S29_R2_001_Run230322.fastq.gz   \n",
       "30             30_S30_R2_001_Run230322.fastq.gz   \n",
       "31             31_S31_R2_001_Run230322.fastq.gz   \n",
       "32             32_S32_R2_001_Run230322.fastq.gz   \n",
       "33             33_S33_R2_001_Run230322.fastq.gz   \n",
       "\n",
       "                                   Run230323_R1  \\\n",
       "sample_number                                     \n",
       "1                1_S1_R1_001_Run230323.fastq.gz   \n",
       "2                2_S2_R1_001_Run230323.fastq.gz   \n",
       "3                3_S3_R1_001_Run230323.fastq.gz   \n",
       "4                4_S4_R1_001_Run230323.fastq.gz   \n",
       "5                5_S5_R1_001_Run230323.fastq.gz   \n",
       "6                6_S6_R1_001_Run230323.fastq.gz   \n",
       "7                7_S7_R1_001_Run230323.fastq.gz   \n",
       "8                8_S8_R1_001_Run230323.fastq.gz   \n",
       "9                9_S9_R1_001_Run230323.fastq.gz   \n",
       "10             10_S10_R1_001_Run230323.fastq.gz   \n",
       "11             11_S11_R1_001_Run230323.fastq.gz   \n",
       "12             12_S12_R1_001_Run230323.fastq.gz   \n",
       "13             13_S13_R1_001_Run230323.fastq.gz   \n",
       "14             14_S14_R1_001_Run230323.fastq.gz   \n",
       "15             15_S15_R1_001_Run230323.fastq.gz   \n",
       "16             16_S16_R1_001_Run230323.fastq.gz   \n",
       "17             17_S17_R1_001_Run230323.fastq.gz   \n",
       "18             18_S18_R1_001_Run230323.fastq.gz   \n",
       "19             19_S19_R1_001_Run230323.fastq.gz   \n",
       "20             20_S20_R1_001_Run230323.fastq.gz   \n",
       "21             21_S21_R1_001_Run230323.fastq.gz   \n",
       "22             22_S22_R1_001_Run230323.fastq.gz   \n",
       "23             23_S23_R1_001_Run230323.fastq.gz   \n",
       "24             24_S24_R1_001_Run230323.fastq.gz   \n",
       "25             25_S25_R1_001_Run230323.fastq.gz   \n",
       "26             26_S26_R1_001_Run230323.fastq.gz   \n",
       "27             27_S27_R1_001_Run230323.fastq.gz   \n",
       "28             28_S28_R1_001_Run230323.fastq.gz   \n",
       "29             29_S29_R1_001_Run230323.fastq.gz   \n",
       "30             30_S30_R1_001_Run230323.fastq.gz   \n",
       "31             31_S31_R1_001_Run230323.fastq.gz   \n",
       "32             32_S32_R1_001_Run230323.fastq.gz   \n",
       "33             33_S33_R1_001_Run230323.fastq.gz   \n",
       "\n",
       "                                   Run230323_R2  \n",
       "sample_number                                    \n",
       "1                1_S1_R2_001_Run230323.fastq.gz  \n",
       "2                2_S2_R2_001_Run230323.fastq.gz  \n",
       "3                3_S3_R2_001_Run230323.fastq.gz  \n",
       "4                4_S4_R2_001_Run230323.fastq.gz  \n",
       "5                5_S5_R2_001_Run230323.fastq.gz  \n",
       "6                6_S6_R2_001_Run230323.fastq.gz  \n",
       "7                7_S7_R2_001_Run230323.fastq.gz  \n",
       "8                8_S8_R2_001_Run230323.fastq.gz  \n",
       "9                9_S9_R2_001_Run230323.fastq.gz  \n",
       "10             10_S10_R2_001_Run230323.fastq.gz  \n",
       "11             11_S11_R2_001_Run230323.fastq.gz  \n",
       "12             12_S12_R2_001_Run230323.fastq.gz  \n",
       "13             13_S13_R2_001_Run230323.fastq.gz  \n",
       "14             14_S14_R2_001_Run230323.fastq.gz  \n",
       "15             15_S15_R2_001_Run230323.fastq.gz  \n",
       "16             16_S16_R2_001_Run230323.fastq.gz  \n",
       "17             17_S17_R2_001_Run230323.fastq.gz  \n",
       "18             18_S18_R2_001_Run230323.fastq.gz  \n",
       "19             19_S19_R2_001_Run230323.fastq.gz  \n",
       "20             20_S20_R2_001_Run230323.fastq.gz  \n",
       "21             21_S21_R2_001_Run230323.fastq.gz  \n",
       "22             22_S22_R2_001_Run230323.fastq.gz  \n",
       "23             23_S23_R2_001_Run230323.fastq.gz  \n",
       "24             24_S24_R2_001_Run230323.fastq.gz  \n",
       "25             25_S25_R2_001_Run230323.fastq.gz  \n",
       "26             26_S26_R2_001_Run230323.fastq.gz  \n",
       "27             27_S27_R2_001_Run230323.fastq.gz  \n",
       "28             28_S28_R2_001_Run230323.fastq.gz  \n",
       "29             29_S29_R2_001_Run230323.fastq.gz  \n",
       "30             30_S30_R2_001_Run230323.fastq.gz  \n",
       "31             31_S31_R2_001_Run230323.fastq.gz  \n",
       "32             32_S32_R2_001_Run230323.fastq.gz  \n",
       "33             33_S33_R2_001_Run230323.fastq.gz  "
      ]
     },
     "metadata": {},
     "output_type": "display_data"
    }
   ],
   "source": [
    "columns = [\"sample_number\"]\n",
    "for run in runs:\n",
    "    for read_num in range(1, 3):\n",
    "        columns.append(f\"{run.name}_R{read_num}\")\n",
    "\n",
    "formatted_sample_info = pd.DataFrame(\n",
    "    columns=columns\n",
    ")\n",
    "formatted_sample_info.set_index(\"sample_number\", inplace=True)\n",
    "\n",
    "for sample_num in range(1, 34):\n",
    "    for run in runs:\n",
    "        for read_num in range(1, 3):\n",
    "            column_name = f\"{run.name}_R{read_num}\"\n",
    "            file_name = f\"{sample_num}_S{sample_num}_R{read_num}_001_{run.name}.fastq.gz\"\n",
    "\n",
    "            # Check that this file name appears in the sample_info data frame\n",
    "            assert(file_name in sample_info[\"final_file_name\"].values)\n",
    "\n",
    "            formatted_sample_info.at[sample_num, column_name] = file_name\n",
    "\n",
    "display(formatted_sample_info)\n",
    "\n",
    "formatted_sample_info.to_csv(formatted_sample_files_path, sep=\"\\t\", index=True)"
   ]
  },
  {
   "cell_type": "markdown",
   "metadata": {},
   "source": [
    "## Compute MD5 Checksums for processed data files"
   ]
  },
  {
   "cell_type": "code",
   "execution_count": 19,
   "metadata": {},
   "outputs": [
    {
     "data": {
      "text/html": [
       "<div>\n",
       "<style scoped>\n",
       "    .dataframe tbody tr th:only-of-type {\n",
       "        vertical-align: middle;\n",
       "    }\n",
       "\n",
       "    .dataframe tbody tr th {\n",
       "        vertical-align: top;\n",
       "    }\n",
       "\n",
       "    .dataframe thead th {\n",
       "        text-align: right;\n",
       "    }\n",
       "</style>\n",
       "<table border=\"1\" class=\"dataframe\">\n",
       "  <thead>\n",
       "    <tr style=\"text-align: right;\">\n",
       "      <th></th>\n",
       "      <th>file_name</th>\n",
       "      <th>md5_checksum</th>\n",
       "    </tr>\n",
       "  </thead>\n",
       "  <tbody>\n",
       "    <tr>\n",
       "      <th>salmon.merged.gene_tpm.tsv</th>\n",
       "      <td>salmon.merged.gene_tpm.tsv</td>\n",
       "      <td>69df151d0b83454cc8c36b6972e62629</td>\n",
       "    </tr>\n",
       "    <tr>\n",
       "      <th>salmon.merged.gene_counts.tsv</th>\n",
       "      <td>salmon.merged.gene_counts.tsv</td>\n",
       "      <td>8955cd3fcad46e7cb9b11e12b97bd9e8</td>\n",
       "    </tr>\n",
       "  </tbody>\n",
       "</table>\n",
       "</div>"
      ],
      "text/plain": [
       "                                                   file_name  \\\n",
       "salmon.merged.gene_tpm.tsv        salmon.merged.gene_tpm.tsv   \n",
       "salmon.merged.gene_counts.tsv  salmon.merged.gene_counts.tsv   \n",
       "\n",
       "                                                   md5_checksum  \n",
       "salmon.merged.gene_tpm.tsv     69df151d0b83454cc8c36b6972e62629  \n",
       "salmon.merged.gene_counts.tsv  8955cd3fcad46e7cb9b11e12b97bd9e8  "
      ]
     },
     "metadata": {},
     "output_type": "display_data"
    }
   ],
   "source": [
    "processed_file_info = pd.DataFrame(\n",
    "    columns=[\"file_name\", \"md5_checksum\"]\n",
    ")\n",
    "\n",
    "for file_name in processed_data_file_names:\n",
    "    file_path = f\"{processed_data_folder}/{file_name}\"\n",
    "\n",
    "    # Compute md5 checksum\n",
    "    md5_checksum = compute_md5_checksum(file_path)\n",
    "\n",
    "    # Add to processed file info\n",
    "    processed_file_info.loc[file_name] = [file_name, md5_checksum]\n",
    "\n",
    "display(processed_file_info)\n",
    "\n",
    "# Save processed data info\n",
    "processed_file_info.to_csv(processed_data_info_path, sep=\"\\t\", index=False)"
   ]
  }
 ],
 "metadata": {
  "kernelspec": {
   "display_name": "general_purpose_venv",
   "language": "python",
   "name": "python3"
  },
  "language_info": {
   "codemirror_mode": {
    "name": "ipython",
    "version": 3
   },
   "file_extension": ".py",
   "mimetype": "text/x-python",
   "name": "python",
   "nbconvert_exporter": "python",
   "pygments_lexer": "ipython3",
   "version": "3.12.3"
  }
 },
 "nbformat": 4,
 "nbformat_minor": 2
}
